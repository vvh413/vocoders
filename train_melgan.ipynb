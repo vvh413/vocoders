{
 "cells": [
  {
   "cell_type": "code",
   "execution_count": 1,
   "id": "42ad6506-4fa1-497c-9982-9acc17665d01",
   "metadata": {
    "tags": []
   },
   "outputs": [],
   "source": [
    "import gc\n",
    "import inspect\n",
    "import json\n",
    "import os\n",
    "import pickle\n",
    "\n",
    "import dill\n",
    "import matplotlib.pyplot as plt\n",
    "import torch\n",
    "import torchaudio\n",
    "from IPython import display\n",
    "from torch import optim\n",
    "from torch.nn import functional as F\n",
    "from torch.utils.data import DataLoader, Subset\n",
    "from tqdm.notebook import tqdm\n",
    "\n",
    "from dataset.dataset import AudioDataset\n",
    "from utils import MelSpec"
   ]
  },
  {
   "cell_type": "code",
   "execution_count": 2,
   "id": "66770c6a-3f0d-4874-91d7-c063ba04a75f",
   "metadata": {
    "tags": []
   },
   "outputs": [
    {
     "data": {
      "text/plain": [
       "'cuda'"
      ]
     },
     "execution_count": 2,
     "metadata": {},
     "output_type": "execute_result"
    }
   ],
   "source": [
    "DEVICE = \"cuda\" if torch.cuda.is_available() else \"cpu\"\n",
    "DEVICE"
   ]
  },
  {
   "cell_type": "code",
   "execution_count": 3,
   "id": "8c802e6b-ab15-41ea-92fa-5c5c68576d1a",
   "metadata": {
    "tags": []
   },
   "outputs": [],
   "source": [
    "def clear_mem():\n",
    "    gc.collect()\n",
    "    torch.cuda.empty_cache()"
   ]
  },
  {
   "cell_type": "code",
   "execution_count": 4,
   "id": "bf6cda66-71f1-4b71-bfcd-1c9b4018bddc",
   "metadata": {
    "tags": []
   },
   "outputs": [],
   "source": [
    "SAMPLE_RATE = 22050\n",
    "SEQ_LENGTH = 8192\n",
    "N_FFT = 1024\n",
    "WIN_LEN = 1024\n",
    "HOP_LEN = 256\n",
    "PAD = (N_FFT - HOP_LEN) // 2\n",
    "MEC_SPEC_CONF_TACOTRON = dict(\n",
    "    sample_rate=SAMPLE_RATE,\n",
    "    n_fft=N_FFT,\n",
    "    win_length=WIN_LEN,\n",
    "    hop_length=HOP_LEN,\n",
    "    n_mels=80,\n",
    "    f_min=40,\n",
    "    f_max=8000,\n",
    "    power=1,\n",
    "    center=False,\n",
    "    pad=PAD,\n",
    "    mel_scale=\"slaney\",\n",
    "    norm=\"slaney\",\n",
    ")"
   ]
  },
  {
   "cell_type": "code",
   "execution_count": 5,
   "id": "a9d8586a-bfb0-4227-9a52-cf09c847b5a6",
   "metadata": {
    "tags": []
   },
   "outputs": [],
   "source": [
    "SAMPLE_RATE = 24000\n",
    "SEQ_LENGTH = 8192\n",
    "N_FFT = 2048\n",
    "WIN_LEN = int(SAMPLE_RATE * 0.05)\n",
    "HOP_LEN = int(SAMPLE_RATE * 0.0125)\n",
    "PAD = 640\n",
    "MEC_SPEC_CONF_TACOTRON_VW = dict(\n",
    "    sample_rate=SAMPLE_RATE,\n",
    "    n_fft=N_FFT,\n",
    "    win_length=WIN_LEN,\n",
    "    hop_length=HOP_LEN,\n",
    "    n_mels=80,\n",
    "    f_min=40,\n",
    "    f_max=8000,\n",
    "    power=1.2,\n",
    "    pad=PAD,\n",
    "    # log_fn=lambda x: torch.log10(x),\n",
    "    log_fn=lambda x: 20 * torch.log10(x),\n",
    "    # norm_fn=lambda x: torch.clamp((x + 100) / 100, 0),\n",
    ")"
   ]
  },
  {
   "cell_type": "code",
   "execution_count": 6,
   "id": "eb732055-a71d-4543-b7f3-f9a058dcd6f2",
   "metadata": {
    "tags": []
   },
   "outputs": [
    {
     "data": {
      "text/plain": [
       "{'sample_rate': 24000,\n",
       " 'n_fft': 2048,\n",
       " 'win_length': 1200,\n",
       " 'hop_length': 300,\n",
       " 'n_mels': 80,\n",
       " 'f_min': 40,\n",
       " 'f_max': 8000,\n",
       " 'power': 1.2,\n",
       " 'pad': 640,\n",
       " 'log_fn': <function __main__.<lambda>(x)>}"
      ]
     },
     "execution_count": 6,
     "metadata": {},
     "output_type": "execute_result"
    }
   ],
   "source": [
    "MEC_SPEC_CONF_TACOTRON_VW"
   ]
  },
  {
   "cell_type": "code",
   "execution_count": 7,
   "id": "8a4ff133-4011-4b1a-95f2-e0ea4c11e18d",
   "metadata": {
    "tags": []
   },
   "outputs": [],
   "source": [
    "MODEL_TAG = \"melgan_8192_24k_100_vw_base_nonorm\""
   ]
  },
  {
   "cell_type": "code",
   "execution_count": 8,
   "id": "9a5acc99-8842-45c8-8f35-1508b0cbd66a",
   "metadata": {
    "tags": []
   },
   "outputs": [
    {
     "name": "stdout",
     "output_type": "stream",
     "text": [
      "already exists\n"
     ]
    }
   ],
   "source": [
    "try:\n",
    "    os.mkdir(f\"models/{MODEL_TAG}\")\n",
    "    os.mkdir(f\"models/{MODEL_TAG}/checkpoints\")\n",
    "    os.mkdir(f\"models/{MODEL_TAG}/samples\")\n",
    "    print(\"ok\")\n",
    "except FileExistsError:\n",
    "    print(\"already exists\")"
   ]
  },
  {
   "cell_type": "code",
   "execution_count": 9,
   "id": "ee20d846-57b1-4db9-9ea5-8009863f78eb",
   "metadata": {
    "tags": []
   },
   "outputs": [],
   "source": [
    "MEL_SPEC_CONF = MEC_SPEC_CONF_TACOTRON_VW.copy()"
   ]
  },
  {
   "cell_type": "code",
   "execution_count": 10,
   "id": "f6558852-0857-4d0e-a7b5-47a23ec61dd7",
   "metadata": {
    "tags": []
   },
   "outputs": [],
   "source": [
    "def lambda2str(fn):\n",
    "    if fn is None:\n",
    "        return \"None\"\n",
    "    return inspect.getsourcelines(fn)[0][0].strip()"
   ]
  },
  {
   "cell_type": "code",
   "execution_count": 11,
   "id": "2b31e724-91ec-4426-aec2-25206bbcf98a",
   "metadata": {
    "tags": []
   },
   "outputs": [
    {
     "name": "stdout",
     "output_type": "stream",
     "text": [
      "log_fn=lambda x: 20 * torch.log10(x),\n",
      "None\n"
     ]
    },
    {
     "data": {
      "text/plain": [
       "{'sample_rate': 24000,\n",
       " 'n_fft': 2048,\n",
       " 'win_length': 1200,\n",
       " 'hop_length': 300,\n",
       " 'n_mels': 80,\n",
       " 'f_min': 40,\n",
       " 'f_max': 8000,\n",
       " 'power': 1.2,\n",
       " 'pad': 640,\n",
       " 'log_fn': <function __main__.<lambda>(x)>}"
      ]
     },
     "execution_count": 11,
     "metadata": {},
     "output_type": "execute_result"
    }
   ],
   "source": [
    "print(lambda2str(MEL_SPEC_CONF.get(\"log_fn\", torch.log)))\n",
    "print(lambda2str(MEL_SPEC_CONF.get(\"norm_fn\", None)))\n",
    "MEL_SPEC_CONF"
   ]
  },
  {
   "cell_type": "code",
   "execution_count": 12,
   "id": "5d7a82c3-bd07-4c44-8319-7afa8bb0ba4f",
   "metadata": {
    "tags": []
   },
   "outputs": [],
   "source": [
    "try:\n",
    "    MEL_SPEC_CONF = dill.load(open(f\"models/{MODEL_TAG}/mel_spec_conf\", \"rb\"))\n",
    "except:\n",
    "    dill.dump(MEL_SPEC_CONF, open(f\"models/{MODEL_TAG}/mel_spec_conf\", \"wb\"))"
   ]
  },
  {
   "cell_type": "code",
   "execution_count": 13,
   "id": "1f14754b-a81f-4da0-bcde-e4fd927fec07",
   "metadata": {
    "tags": []
   },
   "outputs": [],
   "source": [
    "dill.dump(MEL_SPEC_CONF, open(f\"models/{MODEL_TAG}/mel_spec_conf\", \"wb\"))"
   ]
  },
  {
   "cell_type": "code",
   "execution_count": 14,
   "id": "55082ca8-5b70-46c4-bc76-e0563935c537",
   "metadata": {
    "tags": []
   },
   "outputs": [],
   "source": [
    "dataset = AudioDataset(\"dataset/russian-open-stt/audio_dataset/audio_files\", SAMPLE_RATE, segment_length=SEQ_LENGTH)\n",
    "dataset_val = AudioDataset(\"dataset/russian-open-stt/audio_dataset/audio_files\", SAMPLE_RATE)\n",
    "mel_featurizer = MelSpec(MEL_SPEC_CONF)\n",
    "\n",
    "train_ratio = 0.9\n",
    "train_size = int(len(dataset) * train_ratio)\n",
    "\n",
    "try:\n",
    "    random_indexes = pickle.load(open(f\"models/{MODEL_TAG}/indexes\", \"rb\"))\n",
    "except:\n",
    "    random_indexes = torch.randperm(len(dataset)).tolist()\n",
    "dataset_train = Subset(dataset, random_indexes[:train_size])\n",
    "dataset_test = Subset(dataset_val, random_indexes[train_size:])"
   ]
  },
  {
   "cell_type": "code",
   "execution_count": 15,
   "id": "0150164b-ece5-4a39-bd3f-b39bef7d3a80",
   "metadata": {
    "tags": []
   },
   "outputs": [],
   "source": [
    "pickle.dump(random_indexes, open(f\"models/{MODEL_TAG}/indexes\", \"wb\"))"
   ]
  },
  {
   "cell_type": "code",
   "execution_count": 16,
   "id": "19aab216-e4bc-4037-9efd-4ae4fcd99572",
   "metadata": {
    "tags": []
   },
   "outputs": [
    {
     "data": {
      "text/plain": [
       "(106200, 11800)"
      ]
     },
     "execution_count": 16,
     "metadata": {},
     "output_type": "execute_result"
    }
   ],
   "source": [
    "len(dataset_train), len(dataset_test)"
   ]
  },
  {
   "cell_type": "code",
   "execution_count": null,
   "id": "8a45c5d6-d9e0-45fe-aafb-d1b00bcb21b9",
   "metadata": {},
   "outputs": [],
   "source": [
    "audio = dataset_train[0]\n",
    "mel = mel_featurizer(audio)\n",
    "fig, axes = plt.subplots(2, 1, figsize=(10, 5))\n",
    "axes[0].imshow(mel)\n",
    "axes[1].plot(audio[0])\n",
    "\n",
    "display.Audio(audio, rate=dataset.sample_rate)"
   ]
  },
  {
   "cell_type": "code",
   "execution_count": null,
   "id": "1f3032e4-6bb9-411e-9631-c743fc1539fb",
   "metadata": {
    "tags": []
   },
   "outputs": [],
   "source": [
    "audio = dataset_test[0]\n",
    "mel = mel_featurizer(audio)\n",
    "fig, axes = plt.subplots(2, 1, figsize=(10, 5))\n",
    "axes[0].imshow(mel)\n",
    "axes[1].plot(audio[0])\n",
    "\n",
    "display.Audio(audio, rate=dataset.sample_rate)"
   ]
  },
  {
   "cell_type": "code",
   "execution_count": null,
   "id": "61947f80-64c3-474b-ad5d-0babc11e5bde",
   "metadata": {},
   "outputs": [],
   "source": [
    "def collate_fn(items):\n",
    "    audio_len = [audio.size(1) for audio, _ in items]\n",
    "    texts = [code_text(text) for _, text in items]\n",
    "    text_len = [text.size(1) for text in texts]\n",
    "\n",
    "    audio_batch = torch.zeros((len(items), max(audio_len)))\n",
    "    text_batch = torch.zeros((len(texts), max(text_len)))\n",
    "    for i, (audio, _) in enumerate(items):\n",
    "        audio_batch[i, : audio_len[i]] = audio\n",
    "        text_batch[i, : text_len[i]] = texts[i]\n",
    "    return audio_batch, text_batch.long()"
   ]
  },
  {
   "cell_type": "code",
   "execution_count": null,
   "id": "8a73fa00-8935-45fc-b654-1f555eae50e3",
   "metadata": {
    "tags": []
   },
   "outputs": [],
   "source": [
    "dataloader_train = DataLoader(\n",
    "    dataset_train, 32, shuffle=True, drop_last=True, num_workers=24\n",
    ")  # , collate_fn=collate_fn)\n",
    "dataloader_test = DataLoader(dataset_test, 1, pin_memory=True)"
   ]
  },
  {
   "cell_type": "code",
   "execution_count": null,
   "id": "89a9aa21-6b99-49d7-a334-b991b56f22d5",
   "metadata": {
    "tags": []
   },
   "outputs": [],
   "source": [
    "audios = next(iter(dataloader_train))\n",
    "mels = mel_featurizer(audios)\n",
    "fig, axes = plt.subplots(2, 1, figsize=(10, 5))\n",
    "axes[0].imshow(mels[0])\n",
    "axes[1].plot(audios[0][0])\n",
    "\n",
    "display.Audio(audios[0], rate=dataset.sample_rate)"
   ]
  },
  {
   "cell_type": "code",
   "execution_count": null,
   "id": "6ce99bfd-0e0d-4855-a6d0-8180d94068a1",
   "metadata": {},
   "outputs": [],
   "source": [
    "import importlib\n",
    "\n",
    "from melgan import discriminator, generator\n",
    "\n",
    "importlib.reload(generator)\n",
    "importlib.reload(discriminator)\n",
    "\n",
    "from melgan.discriminator import Discriminator\n",
    "from melgan.generator import Generator"
   ]
  },
  {
   "cell_type": "code",
   "execution_count": null,
   "id": "d1182ee9-6d1c-4048-b6d2-440aa32ab510",
   "metadata": {
    "tags": []
   },
   "outputs": [],
   "source": [
    "D_LAYERS = 4\n",
    "LAMBDA = 10"
   ]
  },
  {
   "cell_type": "code",
   "execution_count": 143,
   "id": "6cc04b7f-16a8-43e4-b915-d268c4b1a7ef",
   "metadata": {
    "tags": []
   },
   "outputs": [],
   "source": [
    "gen = generator.Generator(80, 32, 3).to(DEVICE)\n",
    "disc = discriminator.Discriminator(3, 16, D_LAYERS, 4).to(DEVICE)"
   ]
  },
  {
   "cell_type": "code",
   "execution_count": 144,
   "id": "2f4a966e-fc9f-4ebe-a105-214a789ce9a9",
   "metadata": {
    "tags": []
   },
   "outputs": [],
   "source": [
    "opt_gen = optim.Adam(gen.parameters(), lr=1e-4, betas=(0.5, 0.9))\n",
    "opt_disc = optim.Adam(disc.parameters(), lr=1e-4, betas=(0.5, 0.9))"
   ]
  },
  {
   "cell_type": "code",
   "execution_count": 147,
   "id": "6aa89075-a6e7-4c2e-bb7a-896395dac3d4",
   "metadata": {
    "tags": []
   },
   "outputs": [
    {
     "name": "stdout",
     "output_type": "stream",
     "text": [
      "log_fn=lambda x: 20 * torch.log10(x),\n",
      "None\n"
     ]
    },
    {
     "data": {
      "text/plain": [
       "{'sample_rate': 24000,\n",
       " 'n_fft': 2048,\n",
       " 'win_length': 1200,\n",
       " 'hop_length': 300,\n",
       " 'n_mels': 80,\n",
       " 'f_min': 40,\n",
       " 'f_max': 8000,\n",
       " 'power': 1.2,\n",
       " 'pad': 640,\n",
       " 'log_fn': <function __main__.<lambda>(x)>}"
      ]
     },
     "execution_count": 147,
     "metadata": {},
     "output_type": "execute_result"
    }
   ],
   "source": [
    "mel_featurizer = MelSpec(MEL_SPEC_CONF).to(DEVICE)\n",
    "print(lambda2str(mel_featurizer.conf.get(\"log_fn\", torch.log)))\n",
    "print(lambda2str(mel_featurizer.conf.get(\"norm_fn\", None)))\n",
    "mel_featurizer.conf"
   ]
  },
  {
   "cell_type": "code",
   "execution_count": 149,
   "id": "bdc7f549-9dc1-4883-b76c-9e82fad4f423",
   "metadata": {
    "tags": []
   },
   "outputs": [
    {
     "name": "stdout",
     "output_type": "stream",
     "text": [
      "torch.Size([32, 1, 8192]) torch.Size([32, 1, 8192])\n",
      "torch.Size([32, 80, 32]) torch.Size([32, 80, 32])\n",
      "torch.Size([32, 1, 32])\n"
     ]
    }
   ],
   "source": [
    "wav = next(iter(dataloader_train))\n",
    "wav = wav.to(DEVICE)\n",
    "mels = mel_featurizer(wav)\n",
    "\n",
    "fake_wav = gen(mels)\n",
    "disc_result = disc(fake_wav)\n",
    "fake_mels = mel_featurizer(fake_wav)\n",
    "print(wav.size(), fake_wav.size())\n",
    "print(mels.size(), fake_mels.size())\n",
    "print(disc_result[0][-1].size())\n",
    "\n",
    "assert wav.size() == fake_wav.size()\n",
    "assert mels.size() == fake_mels.size()\n",
    "del wav\n",
    "del fake_wav\n",
    "del mels\n",
    "del fake_mels\n",
    "del disc_result\n",
    "clear_mem()"
   ]
  },
  {
   "cell_type": "code",
   "execution_count": 150,
   "id": "738a6ce8-ae67-483c-8eae-81475ce22dff",
   "metadata": {
    "tags": []
   },
   "outputs": [],
   "source": [
    "def disc_loss(D_fake, D_real):\n",
    "    loss = 0\n",
    "    for scale in D_fake:\n",
    "        loss += F.relu(1 + scale[-1]).mean()\n",
    "    for scale in D_real:\n",
    "        loss += F.relu(1 - scale[-1]).mean()\n",
    "    return loss\n",
    "\n",
    "\n",
    "def gen_loss(D_fake):\n",
    "    loss = 0\n",
    "    for scale in D_fake:\n",
    "        loss += -scale[-1].mean()\n",
    "    return loss\n",
    "\n",
    "\n",
    "def feature_loss(D_fake, D_real):\n",
    "    loss_feat = 0\n",
    "    feat_weights = 4.0 / (D_LAYERS + 1)\n",
    "    D_weights = 1.0 / len(D_fake)\n",
    "    wt = D_weights * feat_weights\n",
    "    for i in range(len(D_fake)):\n",
    "        for j in range(len(D_fake[i]) - 1):\n",
    "            loss_feat += wt * F.l1_loss(D_fake[i][j], D_real[i][j].detach())\n",
    "    return loss_feat"
   ]
  },
  {
   "cell_type": "code",
   "execution_count": 153,
   "id": "9c365dfe-7fb4-4149-a195-f11ba277fb95",
   "metadata": {},
   "outputs": [],
   "source": [
    "def train(epoch, gen, disc, opt_gen, opt_disc, dataloader):\n",
    "    progress = tqdm(dataloader, desc=f\"Train #{epoch}\\n\")\n",
    "\n",
    "    losses = {\n",
    "        \"disc\": [],\n",
    "        \"gen\": [],\n",
    "        \"feature\": [],\n",
    "        \"mel\": [],\n",
    "    }\n",
    "\n",
    "    gen.train()\n",
    "    disc.train()\n",
    "    for wav in progress:\n",
    "        wav = wav.to(DEVICE)\n",
    "        # wav = preemphasis(wav)\n",
    "\n",
    "        mel = mel_featurizer(wav).detach()\n",
    "\n",
    "        wav_fake = gen(mel)\n",
    "\n",
    "        with torch.no_grad():\n",
    "            mel_fake = mel_featurizer(wav_fake.detach())\n",
    "            loss_mel = F.l1_loss(mel, mel_fake)\n",
    "\n",
    "        D_fake = disc(wav_fake.detach())\n",
    "        D_real = disc(wav)\n",
    "\n",
    "        loss_D = disc_loss(D_fake, D_real)\n",
    "\n",
    "        disc.zero_grad()\n",
    "        loss_D.backward()\n",
    "        opt_disc.step()\n",
    "\n",
    "        D_fake = disc(wav_fake)\n",
    "        loss_G = gen_loss(D_fake)\n",
    "        loss_feat = feature_loss(D_fake, D_real)\n",
    "\n",
    "        gen.zero_grad()\n",
    "        (loss_G + LAMBDA * loss_feat).backward()\n",
    "        opt_gen.step()\n",
    "\n",
    "        losses[\"disc\"].append(loss_D.item())\n",
    "        losses[\"gen\"].append(loss_G.item())\n",
    "        losses[\"feature\"].append(loss_feat.item())\n",
    "        losses[\"mel\"].append(loss_mel.item())\n",
    "\n",
    "        progress.set_description(\n",
    "            (\n",
    "                f\"Epoch #{epoch} | \"\n",
    "                f\"D: {loss_D.item():0.3} | \"\n",
    "                f\"G: {loss_G.item():0.3} | \"\n",
    "                f\"F: {loss_feat.item():0.3} | \"\n",
    "                f\"M: {loss_mel.item():0.3}\"\n",
    "            )\n",
    "        )\n",
    "\n",
    "    return losses"
   ]
  },
  {
   "cell_type": "code",
   "execution_count": 154,
   "id": "16488f95-8f58-422c-b9f2-2e364d32c3c1",
   "metadata": {},
   "outputs": [],
   "source": [
    "def test(epoch, gen, disc, dataloader, n_samples=10):\n",
    "    progress = tqdm(range(10), desc=f\"Test #{epoch}\\n\")\n",
    "    dataloader = iter(dataloader)\n",
    "\n",
    "    gen.eval()\n",
    "    disc.eval()\n",
    "    with torch.no_grad():\n",
    "        for i in progress:\n",
    "            wav = next(dataloader)\n",
    "            wav = wav.to(DEVICE)\n",
    "            # wav = preemphasis(wav)\n",
    "\n",
    "            mel = mel_featurizer(wav).detach()\n",
    "            wav_fake = gen(mel)\n",
    "\n",
    "            # timestamp = str(int(time.time() * 1000))\n",
    "            # torchaudio.save(f\"models/{MODEL_TAG}/samples/{epoch}_{i}.wav\", wav_fake.squeeze(0).cpu(), SAMPLE_RATE)\n",
    "            # wav_fake = deemphasis(wav_fake)\n",
    "            torchaudio.save(f\"models/{MODEL_TAG}/samples/{epoch}_{i}.wav\", wav_fake.cpu(), SAMPLE_RATE)"
   ]
  },
  {
   "cell_type": "code",
   "execution_count": 155,
   "id": "daf0b1c1-b9ed-49b5-9140-6e78049de73c",
   "metadata": {
    "tags": []
   },
   "outputs": [],
   "source": [
    "torch.backends.cudnn.benchmark = True\n",
    "EPOCHS = 100\n",
    "EPOCH_OFFSET = 0\n",
    "checkpoint = (EPOCH_OFFSET - 1) % 10\n",
    "train_losses = []\n",
    "\n",
    "if EPOCH_OFFSET:\n",
    "    train_losses = json.load(open(f\"models/{MODEL_TAG}/losses.json\", \"r\"))\n",
    "    gen.load_state_dict(torch.load(f\"models/{MODEL_TAG}/checkpoints/gen_{checkpoint}.pt\", map_location=\"cuda\"))\n",
    "    opt_gen.load_state_dict(torch.load(f\"models/{MODEL_TAG}/checkpoints/opt_gen_{checkpoint}.pt\", map_location=\"cuda\"))\n",
    "    disc.load_state_dict(torch.load(f\"models/{MODEL_TAG}/checkpoints/disc_{checkpoint}.pt\", map_location=\"cuda\"))\n",
    "    opt_disc.load_state_dict(\n",
    "        torch.load(f\"models/{MODEL_TAG}/checkpoints/opt_disc_{checkpoint}.pt\", map_location=\"cuda\")\n",
    "    )"
   ]
  },
  {
   "cell_type": "code",
   "execution_count": 156,
   "id": "c51405e3-60a6-4c33-a8c1-241bd4dc87b1",
   "metadata": {
    "tags": []
   },
   "outputs": [
    {
     "data": {
      "text/plain": [
       "0"
      ]
     },
     "execution_count": 156,
     "metadata": {},
     "output_type": "execute_result"
    }
   ],
   "source": [
    "len(train_losses)"
   ]
  },
  {
   "cell_type": "code",
   "execution_count": 157,
   "id": "bfbc2514-933f-47a7-b18c-50a9b02be5f8",
   "metadata": {
    "tags": []
   },
   "outputs": [
    {
     "data": {
      "application/vnd.jupyter.widget-view+json": {
       "model_id": "7b0f700e14964ab2b72cbbdf244cba74",
       "version_major": 2,
       "version_minor": 0
      },
      "text/plain": [
       "Train #0\n",
       ":   0%|          | 0/3318 [00:00<?, ?it/s]"
      ]
     },
     "metadata": {},
     "output_type": "display_data"
    },
    {
     "data": {
      "application/vnd.jupyter.widget-view+json": {
       "model_id": "673e4160a4a541c99b88c6d62c926d3c",
       "version_major": 2,
       "version_minor": 0
      },
      "text/plain": [
       "Test #0\n",
       ":   0%|          | 0/10 [00:00<?, ?it/s]"
      ]
     },
     "metadata": {},
     "output_type": "display_data"
    },
    {
     "data": {
      "application/vnd.jupyter.widget-view+json": {
       "model_id": "1966a249b0094bdcbdbbda50e3443b87",
       "version_major": 2,
       "version_minor": 0
      },
      "text/plain": [
       "Train #1\n",
       ":   0%|          | 0/3318 [00:00<?, ?it/s]"
      ]
     },
     "metadata": {},
     "output_type": "display_data"
    },
    {
     "data": {
      "application/vnd.jupyter.widget-view+json": {
       "model_id": "e9e867767dad4fe098aafab1a6db77b0",
       "version_major": 2,
       "version_minor": 0
      },
      "text/plain": [
       "Test #1\n",
       ":   0%|          | 0/10 [00:00<?, ?it/s]"
      ]
     },
     "metadata": {},
     "output_type": "display_data"
    },
    {
     "data": {
      "application/vnd.jupyter.widget-view+json": {
       "model_id": "00e3e97b667a450da8bca3ff6996a365",
       "version_major": 2,
       "version_minor": 0
      },
      "text/plain": [
       "Train #2\n",
       ":   0%|          | 0/3318 [00:00<?, ?it/s]"
      ]
     },
     "metadata": {},
     "output_type": "display_data"
    },
    {
     "data": {
      "application/vnd.jupyter.widget-view+json": {
       "model_id": "3fbc4685c14b44a380be4acd90431bf3",
       "version_major": 2,
       "version_minor": 0
      },
      "text/plain": [
       "Test #2\n",
       ":   0%|          | 0/10 [00:00<?, ?it/s]"
      ]
     },
     "metadata": {},
     "output_type": "display_data"
    },
    {
     "data": {
      "application/vnd.jupyter.widget-view+json": {
       "model_id": "ea5fbb2362e7400da2364ce5fd688e50",
       "version_major": 2,
       "version_minor": 0
      },
      "text/plain": [
       "Train #3\n",
       ":   0%|          | 0/3318 [00:00<?, ?it/s]"
      ]
     },
     "metadata": {},
     "output_type": "display_data"
    },
    {
     "data": {
      "application/vnd.jupyter.widget-view+json": {
       "model_id": "a7d914cc2ddd4206a689979691289a97",
       "version_major": 2,
       "version_minor": 0
      },
      "text/plain": [
       "Test #3\n",
       ":   0%|          | 0/10 [00:00<?, ?it/s]"
      ]
     },
     "metadata": {},
     "output_type": "display_data"
    },
    {
     "data": {
      "application/vnd.jupyter.widget-view+json": {
       "model_id": "39125d69d15b4925935fc09ea5549d4a",
       "version_major": 2,
       "version_minor": 0
      },
      "text/plain": [
       "Train #4\n",
       ":   0%|          | 0/3318 [00:00<?, ?it/s]"
      ]
     },
     "metadata": {},
     "output_type": "display_data"
    },
    {
     "data": {
      "application/vnd.jupyter.widget-view+json": {
       "model_id": "7f6cc48841b74f8eb7faa7f36473c90a",
       "version_major": 2,
       "version_minor": 0
      },
      "text/plain": [
       "Test #4\n",
       ":   0%|          | 0/10 [00:00<?, ?it/s]"
      ]
     },
     "metadata": {},
     "output_type": "display_data"
    },
    {
     "data": {
      "application/vnd.jupyter.widget-view+json": {
       "model_id": "3ab1a0aa857144daad40548fc800ec19",
       "version_major": 2,
       "version_minor": 0
      },
      "text/plain": [
       "Train #5\n",
       ":   0%|          | 0/3318 [00:00<?, ?it/s]"
      ]
     },
     "metadata": {},
     "output_type": "display_data"
    },
    {
     "data": {
      "application/vnd.jupyter.widget-view+json": {
       "model_id": "e42d959e2b7e4f75a7fed67f584877b5",
       "version_major": 2,
       "version_minor": 0
      },
      "text/plain": [
       "Test #5\n",
       ":   0%|          | 0/10 [00:00<?, ?it/s]"
      ]
     },
     "metadata": {},
     "output_type": "display_data"
    },
    {
     "data": {
      "application/vnd.jupyter.widget-view+json": {
       "model_id": "9163e4355ba94a978266c3617b41140d",
       "version_major": 2,
       "version_minor": 0
      },
      "text/plain": [
       "Train #6\n",
       ":   0%|          | 0/3318 [00:00<?, ?it/s]"
      ]
     },
     "metadata": {},
     "output_type": "display_data"
    },
    {
     "data": {
      "application/vnd.jupyter.widget-view+json": {
       "model_id": "9c3da83c2c044d11ab988eaa73b4cf2a",
       "version_major": 2,
       "version_minor": 0
      },
      "text/plain": [
       "Test #6\n",
       ":   0%|          | 0/10 [00:00<?, ?it/s]"
      ]
     },
     "metadata": {},
     "output_type": "display_data"
    },
    {
     "data": {
      "application/vnd.jupyter.widget-view+json": {
       "model_id": "ae691beecedd4a5bb1662e77bccc8534",
       "version_major": 2,
       "version_minor": 0
      },
      "text/plain": [
       "Train #7\n",
       ":   0%|          | 0/3318 [00:00<?, ?it/s]"
      ]
     },
     "metadata": {},
     "output_type": "display_data"
    },
    {
     "data": {
      "application/vnd.jupyter.widget-view+json": {
       "model_id": "6468791faa2b4174a275e01cf8280fe2",
       "version_major": 2,
       "version_minor": 0
      },
      "text/plain": [
       "Test #7\n",
       ":   0%|          | 0/10 [00:00<?, ?it/s]"
      ]
     },
     "metadata": {},
     "output_type": "display_data"
    },
    {
     "data": {
      "application/vnd.jupyter.widget-view+json": {
       "model_id": "bf9527132f3d41e79c6500a080baeeb7",
       "version_major": 2,
       "version_minor": 0
      },
      "text/plain": [
       "Train #8\n",
       ":   0%|          | 0/3318 [00:00<?, ?it/s]"
      ]
     },
     "metadata": {},
     "output_type": "display_data"
    },
    {
     "data": {
      "application/vnd.jupyter.widget-view+json": {
       "model_id": "94fb9db680eb444e9db3af6ffccccaf7",
       "version_major": 2,
       "version_minor": 0
      },
      "text/plain": [
       "Test #8\n",
       ":   0%|          | 0/10 [00:00<?, ?it/s]"
      ]
     },
     "metadata": {},
     "output_type": "display_data"
    },
    {
     "data": {
      "application/vnd.jupyter.widget-view+json": {
       "model_id": "9a955580e20f4a3c9683580c01bec37a",
       "version_major": 2,
       "version_minor": 0
      },
      "text/plain": [
       "Train #9\n",
       ":   0%|          | 0/3318 [00:00<?, ?it/s]"
      ]
     },
     "metadata": {},
     "output_type": "display_data"
    },
    {
     "data": {
      "application/vnd.jupyter.widget-view+json": {
       "model_id": "107f6c5e248d4493b0e595fc73035db0",
       "version_major": 2,
       "version_minor": 0
      },
      "text/plain": [
       "Test #9\n",
       ":   0%|          | 0/10 [00:00<?, ?it/s]"
      ]
     },
     "metadata": {},
     "output_type": "display_data"
    },
    {
     "data": {
      "application/vnd.jupyter.widget-view+json": {
       "model_id": "39c5b958d05e48ba91c2f230a69cf5c4",
       "version_major": 2,
       "version_minor": 0
      },
      "text/plain": [
       "Train #10\n",
       ":   0%|          | 0/3318 [00:00<?, ?it/s]"
      ]
     },
     "metadata": {},
     "output_type": "display_data"
    },
    {
     "data": {
      "application/vnd.jupyter.widget-view+json": {
       "model_id": "eb3dce987a794d59b417a444b667b8ca",
       "version_major": 2,
       "version_minor": 0
      },
      "text/plain": [
       "Test #10\n",
       ":   0%|          | 0/10 [00:00<?, ?it/s]"
      ]
     },
     "metadata": {},
     "output_type": "display_data"
    },
    {
     "data": {
      "application/vnd.jupyter.widget-view+json": {
       "model_id": "0f7c7b030d6f424ca351775a61c7b615",
       "version_major": 2,
       "version_minor": 0
      },
      "text/plain": [
       "Train #11\n",
       ":   0%|          | 0/3318 [00:00<?, ?it/s]"
      ]
     },
     "metadata": {},
     "output_type": "display_data"
    },
    {
     "data": {
      "application/vnd.jupyter.widget-view+json": {
       "model_id": "f0fa18ee07394acea5f200cc1853e5fe",
       "version_major": 2,
       "version_minor": 0
      },
      "text/plain": [
       "Test #11\n",
       ":   0%|          | 0/10 [00:00<?, ?it/s]"
      ]
     },
     "metadata": {},
     "output_type": "display_data"
    },
    {
     "data": {
      "application/vnd.jupyter.widget-view+json": {
       "model_id": "611d8c7851f640519733db9b09ab454c",
       "version_major": 2,
       "version_minor": 0
      },
      "text/plain": [
       "Train #12\n",
       ":   0%|          | 0/3318 [00:00<?, ?it/s]"
      ]
     },
     "metadata": {},
     "output_type": "display_data"
    },
    {
     "data": {
      "application/vnd.jupyter.widget-view+json": {
       "model_id": "73c4c47632714cfd99877bd4e72887e4",
       "version_major": 2,
       "version_minor": 0
      },
      "text/plain": [
       "Test #12\n",
       ":   0%|          | 0/10 [00:00<?, ?it/s]"
      ]
     },
     "metadata": {},
     "output_type": "display_data"
    },
    {
     "data": {
      "application/vnd.jupyter.widget-view+json": {
       "model_id": "8552ef1e45904089be90c1bbf33ae836",
       "version_major": 2,
       "version_minor": 0
      },
      "text/plain": [
       "Train #13\n",
       ":   0%|          | 0/3318 [00:00<?, ?it/s]"
      ]
     },
     "metadata": {},
     "output_type": "display_data"
    },
    {
     "data": {
      "application/vnd.jupyter.widget-view+json": {
       "model_id": "75cd2333e337483fb6163170db6f380a",
       "version_major": 2,
       "version_minor": 0
      },
      "text/plain": [
       "Test #13\n",
       ":   0%|          | 0/10 [00:00<?, ?it/s]"
      ]
     },
     "metadata": {},
     "output_type": "display_data"
    },
    {
     "data": {
      "application/vnd.jupyter.widget-view+json": {
       "model_id": "f0e8dc11888940cf8812e48f0b26ff34",
       "version_major": 2,
       "version_minor": 0
      },
      "text/plain": [
       "Train #14\n",
       ":   0%|          | 0/3318 [00:00<?, ?it/s]"
      ]
     },
     "metadata": {},
     "output_type": "display_data"
    },
    {
     "data": {
      "application/vnd.jupyter.widget-view+json": {
       "model_id": "032fff8407c34b21ab682b329e03412f",
       "version_major": 2,
       "version_minor": 0
      },
      "text/plain": [
       "Test #14\n",
       ":   0%|          | 0/10 [00:00<?, ?it/s]"
      ]
     },
     "metadata": {},
     "output_type": "display_data"
    },
    {
     "data": {
      "application/vnd.jupyter.widget-view+json": {
       "model_id": "53867e9a02bd4117a1a02f963e48530f",
       "version_major": 2,
       "version_minor": 0
      },
      "text/plain": [
       "Train #15\n",
       ":   0%|          | 0/3318 [00:00<?, ?it/s]"
      ]
     },
     "metadata": {},
     "output_type": "display_data"
    },
    {
     "data": {
      "application/vnd.jupyter.widget-view+json": {
       "model_id": "9a124271489c452c928c6dea07f65013",
       "version_major": 2,
       "version_minor": 0
      },
      "text/plain": [
       "Test #15\n",
       ":   0%|          | 0/10 [00:00<?, ?it/s]"
      ]
     },
     "metadata": {},
     "output_type": "display_data"
    },
    {
     "data": {
      "application/vnd.jupyter.widget-view+json": {
       "model_id": "c4e3c489181348cb8499f294467abb87",
       "version_major": 2,
       "version_minor": 0
      },
      "text/plain": [
       "Train #16\n",
       ":   0%|          | 0/3318 [00:00<?, ?it/s]"
      ]
     },
     "metadata": {},
     "output_type": "display_data"
    },
    {
     "data": {
      "application/vnd.jupyter.widget-view+json": {
       "model_id": "b78dd0c1fda84359935e68cdef45ebd8",
       "version_major": 2,
       "version_minor": 0
      },
      "text/plain": [
       "Test #16\n",
       ":   0%|          | 0/10 [00:00<?, ?it/s]"
      ]
     },
     "metadata": {},
     "output_type": "display_data"
    },
    {
     "data": {
      "application/vnd.jupyter.widget-view+json": {
       "model_id": "e25be88b0c3f49adaf71e05ae5b1ef9c",
       "version_major": 2,
       "version_minor": 0
      },
      "text/plain": [
       "Train #17\n",
       ":   0%|          | 0/3318 [00:00<?, ?it/s]"
      ]
     },
     "metadata": {},
     "output_type": "display_data"
    },
    {
     "data": {
      "application/vnd.jupyter.widget-view+json": {
       "model_id": "5920e01d71b44b2d951c729e23883c73",
       "version_major": 2,
       "version_minor": 0
      },
      "text/plain": [
       "Test #17\n",
       ":   0%|          | 0/10 [00:00<?, ?it/s]"
      ]
     },
     "metadata": {},
     "output_type": "display_data"
    },
    {
     "data": {
      "application/vnd.jupyter.widget-view+json": {
       "model_id": "b46cc3475c1b47998add3b5ecf8a5983",
       "version_major": 2,
       "version_minor": 0
      },
      "text/plain": [
       "Train #18\n",
       ":   0%|          | 0/3318 [00:00<?, ?it/s]"
      ]
     },
     "metadata": {},
     "output_type": "display_data"
    },
    {
     "data": {
      "application/vnd.jupyter.widget-view+json": {
       "model_id": "492e10a5f3aa460990faf24169444618",
       "version_major": 2,
       "version_minor": 0
      },
      "text/plain": [
       "Test #18\n",
       ":   0%|          | 0/10 [00:00<?, ?it/s]"
      ]
     },
     "metadata": {},
     "output_type": "display_data"
    },
    {
     "data": {
      "application/vnd.jupyter.widget-view+json": {
       "model_id": "e909a453d946473e9fe30a7bc659aa07",
       "version_major": 2,
       "version_minor": 0
      },
      "text/plain": [
       "Train #19\n",
       ":   0%|          | 0/3318 [00:00<?, ?it/s]"
      ]
     },
     "metadata": {},
     "output_type": "display_data"
    },
    {
     "data": {
      "application/vnd.jupyter.widget-view+json": {
       "model_id": "ba092c1a9f244e1f98ed33e466dcf946",
       "version_major": 2,
       "version_minor": 0
      },
      "text/plain": [
       "Test #19\n",
       ":   0%|          | 0/10 [00:00<?, ?it/s]"
      ]
     },
     "metadata": {},
     "output_type": "display_data"
    },
    {
     "data": {
      "application/vnd.jupyter.widget-view+json": {
       "model_id": "c6a38c233b3a40d78f49b9112309da44",
       "version_major": 2,
       "version_minor": 0
      },
      "text/plain": [
       "Train #20\n",
       ":   0%|          | 0/3318 [00:00<?, ?it/s]"
      ]
     },
     "metadata": {},
     "output_type": "display_data"
    },
    {
     "data": {
      "application/vnd.jupyter.widget-view+json": {
       "model_id": "80277c38d88441fabc9b3b81be1700c6",
       "version_major": 2,
       "version_minor": 0
      },
      "text/plain": [
       "Test #20\n",
       ":   0%|          | 0/10 [00:00<?, ?it/s]"
      ]
     },
     "metadata": {},
     "output_type": "display_data"
    },
    {
     "data": {
      "application/vnd.jupyter.widget-view+json": {
       "model_id": "0d43d1ea15fe475f9df8993a33fb5870",
       "version_major": 2,
       "version_minor": 0
      },
      "text/plain": [
       "Train #21\n",
       ":   0%|          | 0/3318 [00:00<?, ?it/s]"
      ]
     },
     "metadata": {},
     "output_type": "display_data"
    },
    {
     "data": {
      "application/vnd.jupyter.widget-view+json": {
       "model_id": "92235d6ee8c045d58123c9241bf8a6e9",
       "version_major": 2,
       "version_minor": 0
      },
      "text/plain": [
       "Test #21\n",
       ":   0%|          | 0/10 [00:00<?, ?it/s]"
      ]
     },
     "metadata": {},
     "output_type": "display_data"
    },
    {
     "data": {
      "application/vnd.jupyter.widget-view+json": {
       "model_id": "76c70e13bd7642988c3126b2dced09cd",
       "version_major": 2,
       "version_minor": 0
      },
      "text/plain": [
       "Train #22\n",
       ":   0%|          | 0/3318 [00:00<?, ?it/s]"
      ]
     },
     "metadata": {},
     "output_type": "display_data"
    },
    {
     "data": {
      "application/vnd.jupyter.widget-view+json": {
       "model_id": "fcfc01c0f0a048b99f1496be237dc547",
       "version_major": 2,
       "version_minor": 0
      },
      "text/plain": [
       "Test #22\n",
       ":   0%|          | 0/10 [00:00<?, ?it/s]"
      ]
     },
     "metadata": {},
     "output_type": "display_data"
    },
    {
     "data": {
      "application/vnd.jupyter.widget-view+json": {
       "model_id": "f33f79b397c043718ebecabaf50b7877",
       "version_major": 2,
       "version_minor": 0
      },
      "text/plain": [
       "Train #23\n",
       ":   0%|          | 0/3318 [00:00<?, ?it/s]"
      ]
     },
     "metadata": {},
     "output_type": "display_data"
    },
    {
     "data": {
      "application/vnd.jupyter.widget-view+json": {
       "model_id": "2e54f082e43942ea8e30b957d438b5b6",
       "version_major": 2,
       "version_minor": 0
      },
      "text/plain": [
       "Test #23\n",
       ":   0%|          | 0/10 [00:00<?, ?it/s]"
      ]
     },
     "metadata": {},
     "output_type": "display_data"
    },
    {
     "data": {
      "application/vnd.jupyter.widget-view+json": {
       "model_id": "887f5a5e142243d9941adf2f5b3fc7cf",
       "version_major": 2,
       "version_minor": 0
      },
      "text/plain": [
       "Train #24\n",
       ":   0%|          | 0/3318 [00:00<?, ?it/s]"
      ]
     },
     "metadata": {},
     "output_type": "display_data"
    },
    {
     "data": {
      "application/vnd.jupyter.widget-view+json": {
       "model_id": "941edcb96cfb4f39a212886699a28b13",
       "version_major": 2,
       "version_minor": 0
      },
      "text/plain": [
       "Test #24\n",
       ":   0%|          | 0/10 [00:00<?, ?it/s]"
      ]
     },
     "metadata": {},
     "output_type": "display_data"
    },
    {
     "data": {
      "application/vnd.jupyter.widget-view+json": {
       "model_id": "02b3b0199fef437da0302c0e3c936112",
       "version_major": 2,
       "version_minor": 0
      },
      "text/plain": [
       "Train #25\n",
       ":   0%|          | 0/3318 [00:00<?, ?it/s]"
      ]
     },
     "metadata": {},
     "output_type": "display_data"
    },
    {
     "data": {
      "application/vnd.jupyter.widget-view+json": {
       "model_id": "39fd0f6c244442869e6ed6159080570c",
       "version_major": 2,
       "version_minor": 0
      },
      "text/plain": [
       "Test #25\n",
       ":   0%|          | 0/10 [00:00<?, ?it/s]"
      ]
     },
     "metadata": {},
     "output_type": "display_data"
    },
    {
     "data": {
      "application/vnd.jupyter.widget-view+json": {
       "model_id": "9177c70175cc47c8b785271548efda27",
       "version_major": 2,
       "version_minor": 0
      },
      "text/plain": [
       "Train #26\n",
       ":   0%|          | 0/3318 [00:00<?, ?it/s]"
      ]
     },
     "metadata": {},
     "output_type": "display_data"
    },
    {
     "data": {
      "application/vnd.jupyter.widget-view+json": {
       "model_id": "ba3e98f509cd4558a2f1c7dddf105cc1",
       "version_major": 2,
       "version_minor": 0
      },
      "text/plain": [
       "Test #26\n",
       ":   0%|          | 0/10 [00:00<?, ?it/s]"
      ]
     },
     "metadata": {},
     "output_type": "display_data"
    },
    {
     "data": {
      "application/vnd.jupyter.widget-view+json": {
       "model_id": "b94b2d692a9f454aa70f31145b508763",
       "version_major": 2,
       "version_minor": 0
      },
      "text/plain": [
       "Train #27\n",
       ":   0%|          | 0/3318 [00:00<?, ?it/s]"
      ]
     },
     "metadata": {},
     "output_type": "display_data"
    },
    {
     "data": {
      "application/vnd.jupyter.widget-view+json": {
       "model_id": "94dc0d5b9b2f43d9885321724e440444",
       "version_major": 2,
       "version_minor": 0
      },
      "text/plain": [
       "Test #27\n",
       ":   0%|          | 0/10 [00:00<?, ?it/s]"
      ]
     },
     "metadata": {},
     "output_type": "display_data"
    },
    {
     "data": {
      "application/vnd.jupyter.widget-view+json": {
       "model_id": "5e542a4524804090b61e7e2d4c27b87b",
       "version_major": 2,
       "version_minor": 0
      },
      "text/plain": [
       "Train #28\n",
       ":   0%|          | 0/3318 [00:00<?, ?it/s]"
      ]
     },
     "metadata": {},
     "output_type": "display_data"
    },
    {
     "data": {
      "application/vnd.jupyter.widget-view+json": {
       "model_id": "f4a55ce527a94988b8e5540e5a8bfa70",
       "version_major": 2,
       "version_minor": 0
      },
      "text/plain": [
       "Test #28\n",
       ":   0%|          | 0/10 [00:00<?, ?it/s]"
      ]
     },
     "metadata": {},
     "output_type": "display_data"
    },
    {
     "data": {
      "application/vnd.jupyter.widget-view+json": {
       "model_id": "5ec46c0fec3140e7964103184bbcc909",
       "version_major": 2,
       "version_minor": 0
      },
      "text/plain": [
       "Train #29\n",
       ":   0%|          | 0/3318 [00:00<?, ?it/s]"
      ]
     },
     "metadata": {},
     "output_type": "display_data"
    },
    {
     "data": {
      "application/vnd.jupyter.widget-view+json": {
       "model_id": "a492cd2d04c64412b6736fa8ef67181d",
       "version_major": 2,
       "version_minor": 0
      },
      "text/plain": [
       "Test #29\n",
       ":   0%|          | 0/10 [00:00<?, ?it/s]"
      ]
     },
     "metadata": {},
     "output_type": "display_data"
    },
    {
     "data": {
      "application/vnd.jupyter.widget-view+json": {
       "model_id": "f42aa9e14de44c06a67cb0bd221a6090",
       "version_major": 2,
       "version_minor": 0
      },
      "text/plain": [
       "Train #30\n",
       ":   0%|          | 0/3318 [00:00<?, ?it/s]"
      ]
     },
     "metadata": {},
     "output_type": "display_data"
    },
    {
     "data": {
      "application/vnd.jupyter.widget-view+json": {
       "model_id": "515784f58f6445029e9c17567029c510",
       "version_major": 2,
       "version_minor": 0
      },
      "text/plain": [
       "Test #30\n",
       ":   0%|          | 0/10 [00:00<?, ?it/s]"
      ]
     },
     "metadata": {},
     "output_type": "display_data"
    },
    {
     "data": {
      "application/vnd.jupyter.widget-view+json": {
       "model_id": "0f46df564ca94969aeb3e63eb48f67bd",
       "version_major": 2,
       "version_minor": 0
      },
      "text/plain": [
       "Train #31\n",
       ":   0%|          | 0/3318 [00:00<?, ?it/s]"
      ]
     },
     "metadata": {},
     "output_type": "display_data"
    },
    {
     "data": {
      "application/vnd.jupyter.widget-view+json": {
       "model_id": "33f440f9be1a423fa3ecfffaba68cb5f",
       "version_major": 2,
       "version_minor": 0
      },
      "text/plain": [
       "Test #31\n",
       ":   0%|          | 0/10 [00:00<?, ?it/s]"
      ]
     },
     "metadata": {},
     "output_type": "display_data"
    },
    {
     "data": {
      "application/vnd.jupyter.widget-view+json": {
       "model_id": "d684003148d74b0d95fe4e2faf3f18d7",
       "version_major": 2,
       "version_minor": 0
      },
      "text/plain": [
       "Train #32\n",
       ":   0%|          | 0/3318 [00:00<?, ?it/s]"
      ]
     },
     "metadata": {},
     "output_type": "display_data"
    },
    {
     "data": {
      "application/vnd.jupyter.widget-view+json": {
       "model_id": "ea1be69cfbf2434cae5238c57a4774ce",
       "version_major": 2,
       "version_minor": 0
      },
      "text/plain": [
       "Test #32\n",
       ":   0%|          | 0/10 [00:00<?, ?it/s]"
      ]
     },
     "metadata": {},
     "output_type": "display_data"
    },
    {
     "data": {
      "application/vnd.jupyter.widget-view+json": {
       "model_id": "237c42ff794247c4a5d658ed332712b3",
       "version_major": 2,
       "version_minor": 0
      },
      "text/plain": [
       "Train #33\n",
       ":   0%|          | 0/3318 [00:00<?, ?it/s]"
      ]
     },
     "metadata": {},
     "output_type": "display_data"
    },
    {
     "data": {
      "application/vnd.jupyter.widget-view+json": {
       "model_id": "021b096a94c64206a47892e55f50517c",
       "version_major": 2,
       "version_minor": 0
      },
      "text/plain": [
       "Test #33\n",
       ":   0%|          | 0/10 [00:00<?, ?it/s]"
      ]
     },
     "metadata": {},
     "output_type": "display_data"
    },
    {
     "data": {
      "application/vnd.jupyter.widget-view+json": {
       "model_id": "01fe42d4425844c7beb58d22cae8a5b9",
       "version_major": 2,
       "version_minor": 0
      },
      "text/plain": [
       "Train #34\n",
       ":   0%|          | 0/3318 [00:00<?, ?it/s]"
      ]
     },
     "metadata": {},
     "output_type": "display_data"
    },
    {
     "data": {
      "application/vnd.jupyter.widget-view+json": {
       "model_id": "a62dbb0a00a34332b7238f6647b3aeeb",
       "version_major": 2,
       "version_minor": 0
      },
      "text/plain": [
       "Test #34\n",
       ":   0%|          | 0/10 [00:00<?, ?it/s]"
      ]
     },
     "metadata": {},
     "output_type": "display_data"
    },
    {
     "data": {
      "application/vnd.jupyter.widget-view+json": {
       "model_id": "8b3a41fd33c440688661d4167398e1af",
       "version_major": 2,
       "version_minor": 0
      },
      "text/plain": [
       "Train #35\n",
       ":   0%|          | 0/3318 [00:00<?, ?it/s]"
      ]
     },
     "metadata": {},
     "output_type": "display_data"
    },
    {
     "data": {
      "application/vnd.jupyter.widget-view+json": {
       "model_id": "284278e88d4f400fb68acc7046870e33",
       "version_major": 2,
       "version_minor": 0
      },
      "text/plain": [
       "Test #35\n",
       ":   0%|          | 0/10 [00:00<?, ?it/s]"
      ]
     },
     "metadata": {},
     "output_type": "display_data"
    },
    {
     "data": {
      "application/vnd.jupyter.widget-view+json": {
       "model_id": "9da1b7b3705047bea06bd5a96d27f9c6",
       "version_major": 2,
       "version_minor": 0
      },
      "text/plain": [
       "Train #36\n",
       ":   0%|          | 0/3318 [00:00<?, ?it/s]"
      ]
     },
     "metadata": {},
     "output_type": "display_data"
    },
    {
     "data": {
      "application/vnd.jupyter.widget-view+json": {
       "model_id": "8d40a4074a894cbfaddc5284e2c7abcb",
       "version_major": 2,
       "version_minor": 0
      },
      "text/plain": [
       "Test #36\n",
       ":   0%|          | 0/10 [00:00<?, ?it/s]"
      ]
     },
     "metadata": {},
     "output_type": "display_data"
    },
    {
     "data": {
      "application/vnd.jupyter.widget-view+json": {
       "model_id": "1de462ddd4c44e599877d7d7cbc2b751",
       "version_major": 2,
       "version_minor": 0
      },
      "text/plain": [
       "Train #37\n",
       ":   0%|          | 0/3318 [00:00<?, ?it/s]"
      ]
     },
     "metadata": {},
     "output_type": "display_data"
    },
    {
     "data": {
      "application/vnd.jupyter.widget-view+json": {
       "model_id": "ece5cf01fa964e29a0e9319d522f0332",
       "version_major": 2,
       "version_minor": 0
      },
      "text/plain": [
       "Test #37\n",
       ":   0%|          | 0/10 [00:00<?, ?it/s]"
      ]
     },
     "metadata": {},
     "output_type": "display_data"
    },
    {
     "data": {
      "application/vnd.jupyter.widget-view+json": {
       "model_id": "933d5cd619e147d6a25e3bf166b4ec2e",
       "version_major": 2,
       "version_minor": 0
      },
      "text/plain": [
       "Train #38\n",
       ":   0%|          | 0/3318 [00:00<?, ?it/s]"
      ]
     },
     "metadata": {},
     "output_type": "display_data"
    },
    {
     "data": {
      "application/vnd.jupyter.widget-view+json": {
       "model_id": "2ebb67414e014e2391d3ffb9b6ca5d9d",
       "version_major": 2,
       "version_minor": 0
      },
      "text/plain": [
       "Test #38\n",
       ":   0%|          | 0/10 [00:00<?, ?it/s]"
      ]
     },
     "metadata": {},
     "output_type": "display_data"
    },
    {
     "data": {
      "application/vnd.jupyter.widget-view+json": {
       "model_id": "35c7097a1d3941ea8cacfb2ebc1e4916",
       "version_major": 2,
       "version_minor": 0
      },
      "text/plain": [
       "Train #39\n",
       ":   0%|          | 0/3318 [00:00<?, ?it/s]"
      ]
     },
     "metadata": {},
     "output_type": "display_data"
    },
    {
     "data": {
      "application/vnd.jupyter.widget-view+json": {
       "model_id": "8ae1055a5f074415a60df9a785eaa7be",
       "version_major": 2,
       "version_minor": 0
      },
      "text/plain": [
       "Test #39\n",
       ":   0%|          | 0/10 [00:00<?, ?it/s]"
      ]
     },
     "metadata": {},
     "output_type": "display_data"
    },
    {
     "data": {
      "application/vnd.jupyter.widget-view+json": {
       "model_id": "52adb1a7a37144e7a10c39adf0cbf85b",
       "version_major": 2,
       "version_minor": 0
      },
      "text/plain": [
       "Train #40\n",
       ":   0%|          | 0/3318 [00:00<?, ?it/s]"
      ]
     },
     "metadata": {},
     "output_type": "display_data"
    },
    {
     "data": {
      "application/vnd.jupyter.widget-view+json": {
       "model_id": "3e4b7b2208554843bf727eaf429c9217",
       "version_major": 2,
       "version_minor": 0
      },
      "text/plain": [
       "Test #40\n",
       ":   0%|          | 0/10 [00:00<?, ?it/s]"
      ]
     },
     "metadata": {},
     "output_type": "display_data"
    },
    {
     "data": {
      "application/vnd.jupyter.widget-view+json": {
       "model_id": "673886eaa409490594b840d92edecfb4",
       "version_major": 2,
       "version_minor": 0
      },
      "text/plain": [
       "Train #41\n",
       ":   0%|          | 0/3318 [00:00<?, ?it/s]"
      ]
     },
     "metadata": {},
     "output_type": "display_data"
    },
    {
     "data": {
      "application/vnd.jupyter.widget-view+json": {
       "model_id": "5a672c3b9da248d3b1eaa6dd4d91f4ac",
       "version_major": 2,
       "version_minor": 0
      },
      "text/plain": [
       "Test #41\n",
       ":   0%|          | 0/10 [00:00<?, ?it/s]"
      ]
     },
     "metadata": {},
     "output_type": "display_data"
    },
    {
     "data": {
      "application/vnd.jupyter.widget-view+json": {
       "model_id": "d1be7d01775041d3beef8db41b62099b",
       "version_major": 2,
       "version_minor": 0
      },
      "text/plain": [
       "Train #42\n",
       ":   0%|          | 0/3318 [00:00<?, ?it/s]"
      ]
     },
     "metadata": {},
     "output_type": "display_data"
    },
    {
     "data": {
      "application/vnd.jupyter.widget-view+json": {
       "model_id": "a1db116f74eb48d9a03021aadedab036",
       "version_major": 2,
       "version_minor": 0
      },
      "text/plain": [
       "Test #42\n",
       ":   0%|          | 0/10 [00:00<?, ?it/s]"
      ]
     },
     "metadata": {},
     "output_type": "display_data"
    },
    {
     "data": {
      "application/vnd.jupyter.widget-view+json": {
       "model_id": "a6416c1f2cb84464a6acaef19ba8939c",
       "version_major": 2,
       "version_minor": 0
      },
      "text/plain": [
       "Train #43\n",
       ":   0%|          | 0/3318 [00:00<?, ?it/s]"
      ]
     },
     "metadata": {},
     "output_type": "display_data"
    },
    {
     "data": {
      "application/vnd.jupyter.widget-view+json": {
       "model_id": "362c78e176854e85b49c1ddf6c038726",
       "version_major": 2,
       "version_minor": 0
      },
      "text/plain": [
       "Test #43\n",
       ":   0%|          | 0/10 [00:00<?, ?it/s]"
      ]
     },
     "metadata": {},
     "output_type": "display_data"
    },
    {
     "data": {
      "application/vnd.jupyter.widget-view+json": {
       "model_id": "aaee792240b8441c9d1b272300378f4f",
       "version_major": 2,
       "version_minor": 0
      },
      "text/plain": [
       "Train #44\n",
       ":   0%|          | 0/3318 [00:00<?, ?it/s]"
      ]
     },
     "metadata": {},
     "output_type": "display_data"
    },
    {
     "data": {
      "application/vnd.jupyter.widget-view+json": {
       "model_id": "d0efd0d3eb1c4d22b319aae48ab4287a",
       "version_major": 2,
       "version_minor": 0
      },
      "text/plain": [
       "Test #44\n",
       ":   0%|          | 0/10 [00:00<?, ?it/s]"
      ]
     },
     "metadata": {},
     "output_type": "display_data"
    },
    {
     "data": {
      "application/vnd.jupyter.widget-view+json": {
       "model_id": "fc305f1d167140b497bb4b160f48d603",
       "version_major": 2,
       "version_minor": 0
      },
      "text/plain": [
       "Train #45\n",
       ":   0%|          | 0/3318 [00:00<?, ?it/s]"
      ]
     },
     "metadata": {},
     "output_type": "display_data"
    },
    {
     "data": {
      "application/vnd.jupyter.widget-view+json": {
       "model_id": "e86cb745883b49a886b54b843a178e84",
       "version_major": 2,
       "version_minor": 0
      },
      "text/plain": [
       "Test #45\n",
       ":   0%|          | 0/10 [00:00<?, ?it/s]"
      ]
     },
     "metadata": {},
     "output_type": "display_data"
    },
    {
     "data": {
      "application/vnd.jupyter.widget-view+json": {
       "model_id": "736ef04d9012417ba8d43ea8344a800a",
       "version_major": 2,
       "version_minor": 0
      },
      "text/plain": [
       "Train #46\n",
       ":   0%|          | 0/3318 [00:00<?, ?it/s]"
      ]
     },
     "metadata": {},
     "output_type": "display_data"
    },
    {
     "data": {
      "application/vnd.jupyter.widget-view+json": {
       "model_id": "4a98f8265e984e5d9eeb0ef4ff01f441",
       "version_major": 2,
       "version_minor": 0
      },
      "text/plain": [
       "Test #46\n",
       ":   0%|          | 0/10 [00:00<?, ?it/s]"
      ]
     },
     "metadata": {},
     "output_type": "display_data"
    },
    {
     "data": {
      "application/vnd.jupyter.widget-view+json": {
       "model_id": "aed14ba4d64b4bf19e775c390825498f",
       "version_major": 2,
       "version_minor": 0
      },
      "text/plain": [
       "Train #47\n",
       ":   0%|          | 0/3318 [00:00<?, ?it/s]"
      ]
     },
     "metadata": {},
     "output_type": "display_data"
    },
    {
     "data": {
      "application/vnd.jupyter.widget-view+json": {
       "model_id": "8a7b0cb2ff6e42b3a6325bec1c4c660d",
       "version_major": 2,
       "version_minor": 0
      },
      "text/plain": [
       "Test #47\n",
       ":   0%|          | 0/10 [00:00<?, ?it/s]"
      ]
     },
     "metadata": {},
     "output_type": "display_data"
    },
    {
     "data": {
      "application/vnd.jupyter.widget-view+json": {
       "model_id": "67d9df6d9b454fa4af6c70b5322aad7e",
       "version_major": 2,
       "version_minor": 0
      },
      "text/plain": [
       "Train #48\n",
       ":   0%|          | 0/3318 [00:00<?, ?it/s]"
      ]
     },
     "metadata": {},
     "output_type": "display_data"
    },
    {
     "data": {
      "application/vnd.jupyter.widget-view+json": {
       "model_id": "f46e7ad1cbc4492bbb3ff8f5975adf58",
       "version_major": 2,
       "version_minor": 0
      },
      "text/plain": [
       "Test #48\n",
       ":   0%|          | 0/10 [00:00<?, ?it/s]"
      ]
     },
     "metadata": {},
     "output_type": "display_data"
    },
    {
     "data": {
      "application/vnd.jupyter.widget-view+json": {
       "model_id": "b83197f1178548caa041462ef13c0cb4",
       "version_major": 2,
       "version_minor": 0
      },
      "text/plain": [
       "Train #49\n",
       ":   0%|          | 0/3318 [00:00<?, ?it/s]"
      ]
     },
     "metadata": {},
     "output_type": "display_data"
    },
    {
     "data": {
      "application/vnd.jupyter.widget-view+json": {
       "model_id": "265275e3c04746efa89c1b5352715220",
       "version_major": 2,
       "version_minor": 0
      },
      "text/plain": [
       "Test #49\n",
       ":   0%|          | 0/10 [00:00<?, ?it/s]"
      ]
     },
     "metadata": {},
     "output_type": "display_data"
    },
    {
     "data": {
      "application/vnd.jupyter.widget-view+json": {
       "model_id": "53e7d66ec4474b80815410ff37a6c5df",
       "version_major": 2,
       "version_minor": 0
      },
      "text/plain": [
       "Train #50\n",
       ":   0%|          | 0/3318 [00:00<?, ?it/s]"
      ]
     },
     "metadata": {},
     "output_type": "display_data"
    },
    {
     "data": {
      "application/vnd.jupyter.widget-view+json": {
       "model_id": "a7a73e0e26d9484c86ca1b542e33c495",
       "version_major": 2,
       "version_minor": 0
      },
      "text/plain": [
       "Test #50\n",
       ":   0%|          | 0/10 [00:00<?, ?it/s]"
      ]
     },
     "metadata": {},
     "output_type": "display_data"
    },
    {
     "data": {
      "application/vnd.jupyter.widget-view+json": {
       "model_id": "85a071d3c6ce481a8b5e2134000325df",
       "version_major": 2,
       "version_minor": 0
      },
      "text/plain": [
       "Train #51\n",
       ":   0%|          | 0/3318 [00:00<?, ?it/s]"
      ]
     },
     "metadata": {},
     "output_type": "display_data"
    },
    {
     "data": {
      "application/vnd.jupyter.widget-view+json": {
       "model_id": "18a00b201059418c9aaaf277056f8a4a",
       "version_major": 2,
       "version_minor": 0
      },
      "text/plain": [
       "Test #51\n",
       ":   0%|          | 0/10 [00:00<?, ?it/s]"
      ]
     },
     "metadata": {},
     "output_type": "display_data"
    },
    {
     "data": {
      "application/vnd.jupyter.widget-view+json": {
       "model_id": "110f4ed385d9403e8558254ff93199e4",
       "version_major": 2,
       "version_minor": 0
      },
      "text/plain": [
       "Train #52\n",
       ":   0%|          | 0/3318 [00:00<?, ?it/s]"
      ]
     },
     "metadata": {},
     "output_type": "display_data"
    },
    {
     "data": {
      "application/vnd.jupyter.widget-view+json": {
       "model_id": "fb8a055383e14948acdccddb4b8692a2",
       "version_major": 2,
       "version_minor": 0
      },
      "text/plain": [
       "Test #52\n",
       ":   0%|          | 0/10 [00:00<?, ?it/s]"
      ]
     },
     "metadata": {},
     "output_type": "display_data"
    },
    {
     "data": {
      "application/vnd.jupyter.widget-view+json": {
       "model_id": "db9b957ca9c14249a4e7617d5ae0ad50",
       "version_major": 2,
       "version_minor": 0
      },
      "text/plain": [
       "Train #53\n",
       ":   0%|          | 0/3318 [00:00<?, ?it/s]"
      ]
     },
     "metadata": {},
     "output_type": "display_data"
    },
    {
     "data": {
      "application/vnd.jupyter.widget-view+json": {
       "model_id": "2366f86e30e64fafa3c482a87b8e8f87",
       "version_major": 2,
       "version_minor": 0
      },
      "text/plain": [
       "Test #53\n",
       ":   0%|          | 0/10 [00:00<?, ?it/s]"
      ]
     },
     "metadata": {},
     "output_type": "display_data"
    },
    {
     "data": {
      "application/vnd.jupyter.widget-view+json": {
       "model_id": "82b893e075114e45b009cdadcd430dae",
       "version_major": 2,
       "version_minor": 0
      },
      "text/plain": [
       "Train #54\n",
       ":   0%|          | 0/3318 [00:00<?, ?it/s]"
      ]
     },
     "metadata": {},
     "output_type": "display_data"
    },
    {
     "data": {
      "application/vnd.jupyter.widget-view+json": {
       "model_id": "2a592508a11143cb94bd26af1ee6ec8d",
       "version_major": 2,
       "version_minor": 0
      },
      "text/plain": [
       "Test #54\n",
       ":   0%|          | 0/10 [00:00<?, ?it/s]"
      ]
     },
     "metadata": {},
     "output_type": "display_data"
    },
    {
     "data": {
      "application/vnd.jupyter.widget-view+json": {
       "model_id": "570c378040da4c0aa02b22b2dac238dd",
       "version_major": 2,
       "version_minor": 0
      },
      "text/plain": [
       "Train #55\n",
       ":   0%|          | 0/3318 [00:00<?, ?it/s]"
      ]
     },
     "metadata": {},
     "output_type": "display_data"
    },
    {
     "data": {
      "application/vnd.jupyter.widget-view+json": {
       "model_id": "1426890dc254433b904d46a3ed67ac8b",
       "version_major": 2,
       "version_minor": 0
      },
      "text/plain": [
       "Test #55\n",
       ":   0%|          | 0/10 [00:00<?, ?it/s]"
      ]
     },
     "metadata": {},
     "output_type": "display_data"
    },
    {
     "data": {
      "application/vnd.jupyter.widget-view+json": {
       "model_id": "2ac04134261b4faea017aad86274b8cc",
       "version_major": 2,
       "version_minor": 0
      },
      "text/plain": [
       "Train #56\n",
       ":   0%|          | 0/3318 [00:00<?, ?it/s]"
      ]
     },
     "metadata": {},
     "output_type": "display_data"
    },
    {
     "data": {
      "application/vnd.jupyter.widget-view+json": {
       "model_id": "cece68f8f276440e996a89aa33cde9dd",
       "version_major": 2,
       "version_minor": 0
      },
      "text/plain": [
       "Test #56\n",
       ":   0%|          | 0/10 [00:00<?, ?it/s]"
      ]
     },
     "metadata": {},
     "output_type": "display_data"
    },
    {
     "data": {
      "application/vnd.jupyter.widget-view+json": {
       "model_id": "09e739fe8d8e40b38954667c414bbd41",
       "version_major": 2,
       "version_minor": 0
      },
      "text/plain": [
       "Train #57\n",
       ":   0%|          | 0/3318 [00:00<?, ?it/s]"
      ]
     },
     "metadata": {},
     "output_type": "display_data"
    },
    {
     "data": {
      "application/vnd.jupyter.widget-view+json": {
       "model_id": "f9875e9d30b647e2a8791ad73e5f43ca",
       "version_major": 2,
       "version_minor": 0
      },
      "text/plain": [
       "Test #57\n",
       ":   0%|          | 0/10 [00:00<?, ?it/s]"
      ]
     },
     "metadata": {},
     "output_type": "display_data"
    },
    {
     "data": {
      "application/vnd.jupyter.widget-view+json": {
       "model_id": "320d85e371244e5a93e4391daf7c4b6b",
       "version_major": 2,
       "version_minor": 0
      },
      "text/plain": [
       "Train #58\n",
       ":   0%|          | 0/3318 [00:00<?, ?it/s]"
      ]
     },
     "metadata": {},
     "output_type": "display_data"
    },
    {
     "data": {
      "application/vnd.jupyter.widget-view+json": {
       "model_id": "26070b27492449e295d7931a9c03856a",
       "version_major": 2,
       "version_minor": 0
      },
      "text/plain": [
       "Test #58\n",
       ":   0%|          | 0/10 [00:00<?, ?it/s]"
      ]
     },
     "metadata": {},
     "output_type": "display_data"
    },
    {
     "data": {
      "application/vnd.jupyter.widget-view+json": {
       "model_id": "cd5b98d4bf1c448db3de6ca86719fe0e",
       "version_major": 2,
       "version_minor": 0
      },
      "text/plain": [
       "Train #59\n",
       ":   0%|          | 0/3318 [00:00<?, ?it/s]"
      ]
     },
     "metadata": {},
     "output_type": "display_data"
    },
    {
     "data": {
      "application/vnd.jupyter.widget-view+json": {
       "model_id": "e7201d733605445c8aedbe5a165734fd",
       "version_major": 2,
       "version_minor": 0
      },
      "text/plain": [
       "Test #59\n",
       ":   0%|          | 0/10 [00:00<?, ?it/s]"
      ]
     },
     "metadata": {},
     "output_type": "display_data"
    },
    {
     "data": {
      "application/vnd.jupyter.widget-view+json": {
       "model_id": "23853aa91c724da69148408b98d24181",
       "version_major": 2,
       "version_minor": 0
      },
      "text/plain": [
       "Train #60\n",
       ":   0%|          | 0/3318 [00:00<?, ?it/s]"
      ]
     },
     "metadata": {},
     "output_type": "display_data"
    },
    {
     "data": {
      "application/vnd.jupyter.widget-view+json": {
       "model_id": "48b52d040b294ff29077ae20e6a0313f",
       "version_major": 2,
       "version_minor": 0
      },
      "text/plain": [
       "Test #60\n",
       ":   0%|          | 0/10 [00:00<?, ?it/s]"
      ]
     },
     "metadata": {},
     "output_type": "display_data"
    },
    {
     "data": {
      "application/vnd.jupyter.widget-view+json": {
       "model_id": "179229d74fd94c26b25b2e80dae9ac0a",
       "version_major": 2,
       "version_minor": 0
      },
      "text/plain": [
       "Train #61\n",
       ":   0%|          | 0/3318 [00:00<?, ?it/s]"
      ]
     },
     "metadata": {},
     "output_type": "display_data"
    },
    {
     "data": {
      "application/vnd.jupyter.widget-view+json": {
       "model_id": "cc1e6b047c5744d9b0d54fb22fadf568",
       "version_major": 2,
       "version_minor": 0
      },
      "text/plain": [
       "Test #61\n",
       ":   0%|          | 0/10 [00:00<?, ?it/s]"
      ]
     },
     "metadata": {},
     "output_type": "display_data"
    },
    {
     "data": {
      "application/vnd.jupyter.widget-view+json": {
       "model_id": "e4074e9d052b4bc1926fb234a39e0f1c",
       "version_major": 2,
       "version_minor": 0
      },
      "text/plain": [
       "Train #62\n",
       ":   0%|          | 0/3318 [00:00<?, ?it/s]"
      ]
     },
     "metadata": {},
     "output_type": "display_data"
    },
    {
     "data": {
      "application/vnd.jupyter.widget-view+json": {
       "model_id": "56bd82c996a941d28c21d83d8994bc61",
       "version_major": 2,
       "version_minor": 0
      },
      "text/plain": [
       "Test #62\n",
       ":   0%|          | 0/10 [00:00<?, ?it/s]"
      ]
     },
     "metadata": {},
     "output_type": "display_data"
    },
    {
     "data": {
      "application/vnd.jupyter.widget-view+json": {
       "model_id": "d398491ab67f492f9a92e53bb1184e46",
       "version_major": 2,
       "version_minor": 0
      },
      "text/plain": [
       "Train #63\n",
       ":   0%|          | 0/3318 [00:00<?, ?it/s]"
      ]
     },
     "metadata": {},
     "output_type": "display_data"
    },
    {
     "data": {
      "application/vnd.jupyter.widget-view+json": {
       "model_id": "673abd5ac500427081bbe8af90c68ff5",
       "version_major": 2,
       "version_minor": 0
      },
      "text/plain": [
       "Test #63\n",
       ":   0%|          | 0/10 [00:00<?, ?it/s]"
      ]
     },
     "metadata": {},
     "output_type": "display_data"
    },
    {
     "data": {
      "application/vnd.jupyter.widget-view+json": {
       "model_id": "eee956f8ddc44159ae889ba6359f0968",
       "version_major": 2,
       "version_minor": 0
      },
      "text/plain": [
       "Train #64\n",
       ":   0%|          | 0/3318 [00:00<?, ?it/s]"
      ]
     },
     "metadata": {},
     "output_type": "display_data"
    },
    {
     "data": {
      "application/vnd.jupyter.widget-view+json": {
       "model_id": "4a47d067e0f04ae3abbe9c39f367080d",
       "version_major": 2,
       "version_minor": 0
      },
      "text/plain": [
       "Test #64\n",
       ":   0%|          | 0/10 [00:00<?, ?it/s]"
      ]
     },
     "metadata": {},
     "output_type": "display_data"
    },
    {
     "data": {
      "application/vnd.jupyter.widget-view+json": {
       "model_id": "6b84ace6291842da8b276115bf8fba44",
       "version_major": 2,
       "version_minor": 0
      },
      "text/plain": [
       "Train #65\n",
       ":   0%|          | 0/3318 [00:00<?, ?it/s]"
      ]
     },
     "metadata": {},
     "output_type": "display_data"
    },
    {
     "data": {
      "application/vnd.jupyter.widget-view+json": {
       "model_id": "5319e26f686543d98336c5e585b849b4",
       "version_major": 2,
       "version_minor": 0
      },
      "text/plain": [
       "Test #65\n",
       ":   0%|          | 0/10 [00:00<?, ?it/s]"
      ]
     },
     "metadata": {},
     "output_type": "display_data"
    },
    {
     "data": {
      "application/vnd.jupyter.widget-view+json": {
       "model_id": "804340919d5d4f67a2d5d8f1f3faef92",
       "version_major": 2,
       "version_minor": 0
      },
      "text/plain": [
       "Train #66\n",
       ":   0%|          | 0/3318 [00:00<?, ?it/s]"
      ]
     },
     "metadata": {},
     "output_type": "display_data"
    },
    {
     "data": {
      "application/vnd.jupyter.widget-view+json": {
       "model_id": "ef075449f7ef4e5bb33a9fc85e8f3c27",
       "version_major": 2,
       "version_minor": 0
      },
      "text/plain": [
       "Test #66\n",
       ":   0%|          | 0/10 [00:00<?, ?it/s]"
      ]
     },
     "metadata": {},
     "output_type": "display_data"
    },
    {
     "data": {
      "application/vnd.jupyter.widget-view+json": {
       "model_id": "32c40a162fb34f748c7954e72771d5e3",
       "version_major": 2,
       "version_minor": 0
      },
      "text/plain": [
       "Train #67\n",
       ":   0%|          | 0/3318 [00:00<?, ?it/s]"
      ]
     },
     "metadata": {},
     "output_type": "display_data"
    },
    {
     "data": {
      "application/vnd.jupyter.widget-view+json": {
       "model_id": "52dc82bec43e428ebb9added27a6498e",
       "version_major": 2,
       "version_minor": 0
      },
      "text/plain": [
       "Test #67\n",
       ":   0%|          | 0/10 [00:00<?, ?it/s]"
      ]
     },
     "metadata": {},
     "output_type": "display_data"
    },
    {
     "data": {
      "application/vnd.jupyter.widget-view+json": {
       "model_id": "05979b69689d484482853e819b83022f",
       "version_major": 2,
       "version_minor": 0
      },
      "text/plain": [
       "Train #68\n",
       ":   0%|          | 0/3318 [00:00<?, ?it/s]"
      ]
     },
     "metadata": {},
     "output_type": "display_data"
    },
    {
     "data": {
      "application/vnd.jupyter.widget-view+json": {
       "model_id": "a8085ca4736e4618b72605591c474eae",
       "version_major": 2,
       "version_minor": 0
      },
      "text/plain": [
       "Test #68\n",
       ":   0%|          | 0/10 [00:00<?, ?it/s]"
      ]
     },
     "metadata": {},
     "output_type": "display_data"
    },
    {
     "data": {
      "application/vnd.jupyter.widget-view+json": {
       "model_id": "9a8f0ebd07a24613838cfe4f91a54bc5",
       "version_major": 2,
       "version_minor": 0
      },
      "text/plain": [
       "Train #69\n",
       ":   0%|          | 0/3318 [00:00<?, ?it/s]"
      ]
     },
     "metadata": {},
     "output_type": "display_data"
    },
    {
     "data": {
      "application/vnd.jupyter.widget-view+json": {
       "model_id": "b954d11c95654a7188dbdd5f6bd230c3",
       "version_major": 2,
       "version_minor": 0
      },
      "text/plain": [
       "Test #69\n",
       ":   0%|          | 0/10 [00:00<?, ?it/s]"
      ]
     },
     "metadata": {},
     "output_type": "display_data"
    },
    {
     "data": {
      "application/vnd.jupyter.widget-view+json": {
       "model_id": "e52829adafca467f81e048343be61d6b",
       "version_major": 2,
       "version_minor": 0
      },
      "text/plain": [
       "Train #70\n",
       ":   0%|          | 0/3318 [00:00<?, ?it/s]"
      ]
     },
     "metadata": {},
     "output_type": "display_data"
    },
    {
     "data": {
      "application/vnd.jupyter.widget-view+json": {
       "model_id": "2bfb2a656aa04258815f10c7ba45e4fd",
       "version_major": 2,
       "version_minor": 0
      },
      "text/plain": [
       "Test #70\n",
       ":   0%|          | 0/10 [00:00<?, ?it/s]"
      ]
     },
     "metadata": {},
     "output_type": "display_data"
    },
    {
     "data": {
      "application/vnd.jupyter.widget-view+json": {
       "model_id": "73017a0ee5784b83975b5d5baf524d90",
       "version_major": 2,
       "version_minor": 0
      },
      "text/plain": [
       "Train #71\n",
       ":   0%|          | 0/3318 [00:00<?, ?it/s]"
      ]
     },
     "metadata": {},
     "output_type": "display_data"
    },
    {
     "data": {
      "application/vnd.jupyter.widget-view+json": {
       "model_id": "0ed8a5b1ffd44918b1ebff7dad04b9d8",
       "version_major": 2,
       "version_minor": 0
      },
      "text/plain": [
       "Test #71\n",
       ":   0%|          | 0/10 [00:00<?, ?it/s]"
      ]
     },
     "metadata": {},
     "output_type": "display_data"
    },
    {
     "data": {
      "application/vnd.jupyter.widget-view+json": {
       "model_id": "6ba1901c0c504cea81a01cf4081c4db8",
       "version_major": 2,
       "version_minor": 0
      },
      "text/plain": [
       "Train #72\n",
       ":   0%|          | 0/3318 [00:00<?, ?it/s]"
      ]
     },
     "metadata": {},
     "output_type": "display_data"
    },
    {
     "data": {
      "application/vnd.jupyter.widget-view+json": {
       "model_id": "e59da32bebbf48f5a50c5ad6ae70a204",
       "version_major": 2,
       "version_minor": 0
      },
      "text/plain": [
       "Test #72\n",
       ":   0%|          | 0/10 [00:00<?, ?it/s]"
      ]
     },
     "metadata": {},
     "output_type": "display_data"
    },
    {
     "data": {
      "application/vnd.jupyter.widget-view+json": {
       "model_id": "cc69d2e9dd624bbdaae30d19e0ff788a",
       "version_major": 2,
       "version_minor": 0
      },
      "text/plain": [
       "Train #73\n",
       ":   0%|          | 0/3318 [00:00<?, ?it/s]"
      ]
     },
     "metadata": {},
     "output_type": "display_data"
    },
    {
     "data": {
      "application/vnd.jupyter.widget-view+json": {
       "model_id": "928af1c1becd4d979656bedb3e1445c5",
       "version_major": 2,
       "version_minor": 0
      },
      "text/plain": [
       "Test #73\n",
       ":   0%|          | 0/10 [00:00<?, ?it/s]"
      ]
     },
     "metadata": {},
     "output_type": "display_data"
    },
    {
     "data": {
      "application/vnd.jupyter.widget-view+json": {
       "model_id": "5d4cdf013ca64db2a465d3bbafe01d62",
       "version_major": 2,
       "version_minor": 0
      },
      "text/plain": [
       "Train #74\n",
       ":   0%|          | 0/3318 [00:00<?, ?it/s]"
      ]
     },
     "metadata": {},
     "output_type": "display_data"
    },
    {
     "data": {
      "application/vnd.jupyter.widget-view+json": {
       "model_id": "82b73e9d3c7f4ff797e323f567fe831f",
       "version_major": 2,
       "version_minor": 0
      },
      "text/plain": [
       "Test #74\n",
       ":   0%|          | 0/10 [00:00<?, ?it/s]"
      ]
     },
     "metadata": {},
     "output_type": "display_data"
    },
    {
     "data": {
      "application/vnd.jupyter.widget-view+json": {
       "model_id": "410c7702daa04961936ca538ce082bf6",
       "version_major": 2,
       "version_minor": 0
      },
      "text/plain": [
       "Train #75\n",
       ":   0%|          | 0/3318 [00:00<?, ?it/s]"
      ]
     },
     "metadata": {},
     "output_type": "display_data"
    },
    {
     "data": {
      "application/vnd.jupyter.widget-view+json": {
       "model_id": "4f7abc084f5541cea38e9c59e6de4de6",
       "version_major": 2,
       "version_minor": 0
      },
      "text/plain": [
       "Test #75\n",
       ":   0%|          | 0/10 [00:00<?, ?it/s]"
      ]
     },
     "metadata": {},
     "output_type": "display_data"
    },
    {
     "data": {
      "application/vnd.jupyter.widget-view+json": {
       "model_id": "440fc81ae993433a94e71026efbff989",
       "version_major": 2,
       "version_minor": 0
      },
      "text/plain": [
       "Train #76\n",
       ":   0%|          | 0/3318 [00:00<?, ?it/s]"
      ]
     },
     "metadata": {},
     "output_type": "display_data"
    },
    {
     "data": {
      "application/vnd.jupyter.widget-view+json": {
       "model_id": "591254fbb4d64120821ae88e8d7f7ac2",
       "version_major": 2,
       "version_minor": 0
      },
      "text/plain": [
       "Test #76\n",
       ":   0%|          | 0/10 [00:00<?, ?it/s]"
      ]
     },
     "metadata": {},
     "output_type": "display_data"
    },
    {
     "data": {
      "application/vnd.jupyter.widget-view+json": {
       "model_id": "0cf12610a64744d38ad06df989163c31",
       "version_major": 2,
       "version_minor": 0
      },
      "text/plain": [
       "Train #77\n",
       ":   0%|          | 0/3318 [00:00<?, ?it/s]"
      ]
     },
     "metadata": {},
     "output_type": "display_data"
    },
    {
     "data": {
      "application/vnd.jupyter.widget-view+json": {
       "model_id": "c48af693ca6a477a99ba38b23ded3732",
       "version_major": 2,
       "version_minor": 0
      },
      "text/plain": [
       "Test #77\n",
       ":   0%|          | 0/10 [00:00<?, ?it/s]"
      ]
     },
     "metadata": {},
     "output_type": "display_data"
    },
    {
     "data": {
      "application/vnd.jupyter.widget-view+json": {
       "model_id": "03464c804a534ff08b72dc0c5b2359d5",
       "version_major": 2,
       "version_minor": 0
      },
      "text/plain": [
       "Train #78\n",
       ":   0%|          | 0/3318 [00:00<?, ?it/s]"
      ]
     },
     "metadata": {},
     "output_type": "display_data"
    },
    {
     "data": {
      "application/vnd.jupyter.widget-view+json": {
       "model_id": "ce94e6c077ac4fde907d69463186fac9",
       "version_major": 2,
       "version_minor": 0
      },
      "text/plain": [
       "Test #78\n",
       ":   0%|          | 0/10 [00:00<?, ?it/s]"
      ]
     },
     "metadata": {},
     "output_type": "display_data"
    },
    {
     "data": {
      "application/vnd.jupyter.widget-view+json": {
       "model_id": "de6072dea0c44c0889c254e16efecd2c",
       "version_major": 2,
       "version_minor": 0
      },
      "text/plain": [
       "Train #79\n",
       ":   0%|          | 0/3318 [00:00<?, ?it/s]"
      ]
     },
     "metadata": {},
     "output_type": "display_data"
    },
    {
     "data": {
      "application/vnd.jupyter.widget-view+json": {
       "model_id": "07ac978a503244dfb260ea843bc7e924",
       "version_major": 2,
       "version_minor": 0
      },
      "text/plain": [
       "Test #79\n",
       ":   0%|          | 0/10 [00:00<?, ?it/s]"
      ]
     },
     "metadata": {},
     "output_type": "display_data"
    },
    {
     "data": {
      "application/vnd.jupyter.widget-view+json": {
       "model_id": "0110b96d4b2f431aa59df3ece41d446b",
       "version_major": 2,
       "version_minor": 0
      },
      "text/plain": [
       "Train #80\n",
       ":   0%|          | 0/3318 [00:00<?, ?it/s]"
      ]
     },
     "metadata": {},
     "output_type": "display_data"
    },
    {
     "data": {
      "application/vnd.jupyter.widget-view+json": {
       "model_id": "5c42b7954d1f45c492c0154021f53a93",
       "version_major": 2,
       "version_minor": 0
      },
      "text/plain": [
       "Test #80\n",
       ":   0%|          | 0/10 [00:00<?, ?it/s]"
      ]
     },
     "metadata": {},
     "output_type": "display_data"
    },
    {
     "data": {
      "application/vnd.jupyter.widget-view+json": {
       "model_id": "6fc14b905a674e6dae4be33f2b750ead",
       "version_major": 2,
       "version_minor": 0
      },
      "text/plain": [
       "Train #81\n",
       ":   0%|          | 0/3318 [00:00<?, ?it/s]"
      ]
     },
     "metadata": {},
     "output_type": "display_data"
    },
    {
     "data": {
      "application/vnd.jupyter.widget-view+json": {
       "model_id": "ef815c0555634dbfbacc02f7975cc7d1",
       "version_major": 2,
       "version_minor": 0
      },
      "text/plain": [
       "Test #81\n",
       ":   0%|          | 0/10 [00:00<?, ?it/s]"
      ]
     },
     "metadata": {},
     "output_type": "display_data"
    },
    {
     "data": {
      "application/vnd.jupyter.widget-view+json": {
       "model_id": "0591aa40b72a45ee9dd2bcc6dd711862",
       "version_major": 2,
       "version_minor": 0
      },
      "text/plain": [
       "Train #82\n",
       ":   0%|          | 0/3318 [00:00<?, ?it/s]"
      ]
     },
     "metadata": {},
     "output_type": "display_data"
    },
    {
     "data": {
      "application/vnd.jupyter.widget-view+json": {
       "model_id": "099a68e0e5844f68a76ac25f38df90a3",
       "version_major": 2,
       "version_minor": 0
      },
      "text/plain": [
       "Test #82\n",
       ":   0%|          | 0/10 [00:00<?, ?it/s]"
      ]
     },
     "metadata": {},
     "output_type": "display_data"
    },
    {
     "data": {
      "application/vnd.jupyter.widget-view+json": {
       "model_id": "e94602672399468a9e80dca266ac6f4b",
       "version_major": 2,
       "version_minor": 0
      },
      "text/plain": [
       "Train #83\n",
       ":   0%|          | 0/3318 [00:00<?, ?it/s]"
      ]
     },
     "metadata": {},
     "output_type": "display_data"
    },
    {
     "data": {
      "application/vnd.jupyter.widget-view+json": {
       "model_id": "853bce8363fc44e0844d7a048fe326a9",
       "version_major": 2,
       "version_minor": 0
      },
      "text/plain": [
       "Test #83\n",
       ":   0%|          | 0/10 [00:00<?, ?it/s]"
      ]
     },
     "metadata": {},
     "output_type": "display_data"
    },
    {
     "data": {
      "application/vnd.jupyter.widget-view+json": {
       "model_id": "d61393c4d9c94eb7a0a7b263d5561e86",
       "version_major": 2,
       "version_minor": 0
      },
      "text/plain": [
       "Train #84\n",
       ":   0%|          | 0/3318 [00:00<?, ?it/s]"
      ]
     },
     "metadata": {},
     "output_type": "display_data"
    },
    {
     "data": {
      "application/vnd.jupyter.widget-view+json": {
       "model_id": "7e59ef6ed8324255816d82e1c49f03ac",
       "version_major": 2,
       "version_minor": 0
      },
      "text/plain": [
       "Test #84\n",
       ":   0%|          | 0/10 [00:00<?, ?it/s]"
      ]
     },
     "metadata": {},
     "output_type": "display_data"
    },
    {
     "data": {
      "application/vnd.jupyter.widget-view+json": {
       "model_id": "bb2f2ef737f248d7bb544246e1f2fe53",
       "version_major": 2,
       "version_minor": 0
      },
      "text/plain": [
       "Train #85\n",
       ":   0%|          | 0/3318 [00:00<?, ?it/s]"
      ]
     },
     "metadata": {},
     "output_type": "display_data"
    },
    {
     "data": {
      "application/vnd.jupyter.widget-view+json": {
       "model_id": "dc1ad22635fd4d208a59f67e6c999474",
       "version_major": 2,
       "version_minor": 0
      },
      "text/plain": [
       "Test #85\n",
       ":   0%|          | 0/10 [00:00<?, ?it/s]"
      ]
     },
     "metadata": {},
     "output_type": "display_data"
    },
    {
     "data": {
      "application/vnd.jupyter.widget-view+json": {
       "model_id": "e6d654d20c09475a8d033cdc3ceabcef",
       "version_major": 2,
       "version_minor": 0
      },
      "text/plain": [
       "Train #86\n",
       ":   0%|          | 0/3318 [00:00<?, ?it/s]"
      ]
     },
     "metadata": {},
     "output_type": "display_data"
    },
    {
     "data": {
      "application/vnd.jupyter.widget-view+json": {
       "model_id": "135d75dc81ad4651ac21550e7d40060e",
       "version_major": 2,
       "version_minor": 0
      },
      "text/plain": [
       "Test #86\n",
       ":   0%|          | 0/10 [00:00<?, ?it/s]"
      ]
     },
     "metadata": {},
     "output_type": "display_data"
    },
    {
     "data": {
      "application/vnd.jupyter.widget-view+json": {
       "model_id": "8202ad4ee2d843ab90feb15269602691",
       "version_major": 2,
       "version_minor": 0
      },
      "text/plain": [
       "Train #87\n",
       ":   0%|          | 0/3318 [00:00<?, ?it/s]"
      ]
     },
     "metadata": {},
     "output_type": "display_data"
    },
    {
     "data": {
      "application/vnd.jupyter.widget-view+json": {
       "model_id": "79ee22c1c7e6436eb2a42b3ebce33e47",
       "version_major": 2,
       "version_minor": 0
      },
      "text/plain": [
       "Test #87\n",
       ":   0%|          | 0/10 [00:00<?, ?it/s]"
      ]
     },
     "metadata": {},
     "output_type": "display_data"
    },
    {
     "data": {
      "application/vnd.jupyter.widget-view+json": {
       "model_id": "65ec5a41314e4aa4b526f61056500b05",
       "version_major": 2,
       "version_minor": 0
      },
      "text/plain": [
       "Train #88\n",
       ":   0%|          | 0/3318 [00:00<?, ?it/s]"
      ]
     },
     "metadata": {},
     "output_type": "display_data"
    },
    {
     "data": {
      "application/vnd.jupyter.widget-view+json": {
       "model_id": "4a722c81b23d4f54bdc6609346d3edbf",
       "version_major": 2,
       "version_minor": 0
      },
      "text/plain": [
       "Test #88\n",
       ":   0%|          | 0/10 [00:00<?, ?it/s]"
      ]
     },
     "metadata": {},
     "output_type": "display_data"
    },
    {
     "data": {
      "application/vnd.jupyter.widget-view+json": {
       "model_id": "53c3c53af4224ec282f6731fa5d1101e",
       "version_major": 2,
       "version_minor": 0
      },
      "text/plain": [
       "Train #89\n",
       ":   0%|          | 0/3318 [00:00<?, ?it/s]"
      ]
     },
     "metadata": {},
     "output_type": "display_data"
    },
    {
     "data": {
      "application/vnd.jupyter.widget-view+json": {
       "model_id": "bca04ccd7147432a872f642f7e873e87",
       "version_major": 2,
       "version_minor": 0
      },
      "text/plain": [
       "Test #89\n",
       ":   0%|          | 0/10 [00:00<?, ?it/s]"
      ]
     },
     "metadata": {},
     "output_type": "display_data"
    },
    {
     "data": {
      "application/vnd.jupyter.widget-view+json": {
       "model_id": "126a4ca5d3f24eb5927a575895275bdf",
       "version_major": 2,
       "version_minor": 0
      },
      "text/plain": [
       "Train #90\n",
       ":   0%|          | 0/3318 [00:00<?, ?it/s]"
      ]
     },
     "metadata": {},
     "output_type": "display_data"
    },
    {
     "data": {
      "application/vnd.jupyter.widget-view+json": {
       "model_id": "5d21152d09974282a7ea12beb2978a01",
       "version_major": 2,
       "version_minor": 0
      },
      "text/plain": [
       "Test #90\n",
       ":   0%|          | 0/10 [00:00<?, ?it/s]"
      ]
     },
     "metadata": {},
     "output_type": "display_data"
    },
    {
     "data": {
      "application/vnd.jupyter.widget-view+json": {
       "model_id": "f2798bca99d1452280871085e6f0b0c4",
       "version_major": 2,
       "version_minor": 0
      },
      "text/plain": [
       "Train #91\n",
       ":   0%|          | 0/3318 [00:00<?, ?it/s]"
      ]
     },
     "metadata": {},
     "output_type": "display_data"
    },
    {
     "data": {
      "application/vnd.jupyter.widget-view+json": {
       "model_id": "d4eff990fd2443938876ac3c5ad4c66f",
       "version_major": 2,
       "version_minor": 0
      },
      "text/plain": [
       "Test #91\n",
       ":   0%|          | 0/10 [00:00<?, ?it/s]"
      ]
     },
     "metadata": {},
     "output_type": "display_data"
    },
    {
     "data": {
      "application/vnd.jupyter.widget-view+json": {
       "model_id": "fe394993cd494398980ef57935c4c620",
       "version_major": 2,
       "version_minor": 0
      },
      "text/plain": [
       "Train #92\n",
       ":   0%|          | 0/3318 [00:00<?, ?it/s]"
      ]
     },
     "metadata": {},
     "output_type": "display_data"
    },
    {
     "data": {
      "application/vnd.jupyter.widget-view+json": {
       "model_id": "ba68b7c2386e45a196a48d7aad121320",
       "version_major": 2,
       "version_minor": 0
      },
      "text/plain": [
       "Test #92\n",
       ":   0%|          | 0/10 [00:00<?, ?it/s]"
      ]
     },
     "metadata": {},
     "output_type": "display_data"
    },
    {
     "data": {
      "application/vnd.jupyter.widget-view+json": {
       "model_id": "55c7fb02d2214703892fc15a014d305b",
       "version_major": 2,
       "version_minor": 0
      },
      "text/plain": [
       "Train #93\n",
       ":   0%|          | 0/3318 [00:00<?, ?it/s]"
      ]
     },
     "metadata": {},
     "output_type": "display_data"
    },
    {
     "data": {
      "application/vnd.jupyter.widget-view+json": {
       "model_id": "f2ccdfc575a243fdb0d23b3685d6dabe",
       "version_major": 2,
       "version_minor": 0
      },
      "text/plain": [
       "Test #93\n",
       ":   0%|          | 0/10 [00:00<?, ?it/s]"
      ]
     },
     "metadata": {},
     "output_type": "display_data"
    },
    {
     "data": {
      "application/vnd.jupyter.widget-view+json": {
       "model_id": "e5d9e0e0c4114b9d9e2c26eca6f07600",
       "version_major": 2,
       "version_minor": 0
      },
      "text/plain": [
       "Train #94\n",
       ":   0%|          | 0/3318 [00:00<?, ?it/s]"
      ]
     },
     "metadata": {},
     "output_type": "display_data"
    },
    {
     "data": {
      "application/vnd.jupyter.widget-view+json": {
       "model_id": "7508b83675fb4c8ea380034ad4e48f88",
       "version_major": 2,
       "version_minor": 0
      },
      "text/plain": [
       "Test #94\n",
       ":   0%|          | 0/10 [00:00<?, ?it/s]"
      ]
     },
     "metadata": {},
     "output_type": "display_data"
    },
    {
     "data": {
      "application/vnd.jupyter.widget-view+json": {
       "model_id": "22699e8b2fe7408892da74315c47a876",
       "version_major": 2,
       "version_minor": 0
      },
      "text/plain": [
       "Train #95\n",
       ":   0%|          | 0/3318 [00:00<?, ?it/s]"
      ]
     },
     "metadata": {},
     "output_type": "display_data"
    },
    {
     "data": {
      "application/vnd.jupyter.widget-view+json": {
       "model_id": "21073065657841c8b5417aa58b74c997",
       "version_major": 2,
       "version_minor": 0
      },
      "text/plain": [
       "Test #95\n",
       ":   0%|          | 0/10 [00:00<?, ?it/s]"
      ]
     },
     "metadata": {},
     "output_type": "display_data"
    },
    {
     "data": {
      "application/vnd.jupyter.widget-view+json": {
       "model_id": "d7424ff7a7a540a2bd078422ba12744f",
       "version_major": 2,
       "version_minor": 0
      },
      "text/plain": [
       "Train #96\n",
       ":   0%|          | 0/3318 [00:00<?, ?it/s]"
      ]
     },
     "metadata": {},
     "output_type": "display_data"
    },
    {
     "data": {
      "application/vnd.jupyter.widget-view+json": {
       "model_id": "544dbf658e644fb48d344918ff1c6225",
       "version_major": 2,
       "version_minor": 0
      },
      "text/plain": [
       "Test #96\n",
       ":   0%|          | 0/10 [00:00<?, ?it/s]"
      ]
     },
     "metadata": {},
     "output_type": "display_data"
    },
    {
     "data": {
      "application/vnd.jupyter.widget-view+json": {
       "model_id": "fde7700fad8c46628922eca117d358d2",
       "version_major": 2,
       "version_minor": 0
      },
      "text/plain": [
       "Train #97\n",
       ":   0%|          | 0/3318 [00:00<?, ?it/s]"
      ]
     },
     "metadata": {},
     "output_type": "display_data"
    },
    {
     "data": {
      "application/vnd.jupyter.widget-view+json": {
       "model_id": "1539dc5071124e1e9b1f2ad945ebb1b3",
       "version_major": 2,
       "version_minor": 0
      },
      "text/plain": [
       "Test #97\n",
       ":   0%|          | 0/10 [00:00<?, ?it/s]"
      ]
     },
     "metadata": {},
     "output_type": "display_data"
    },
    {
     "data": {
      "application/vnd.jupyter.widget-view+json": {
       "model_id": "51fd86308854402891a312aae65eada9",
       "version_major": 2,
       "version_minor": 0
      },
      "text/plain": [
       "Train #98\n",
       ":   0%|          | 0/3318 [00:00<?, ?it/s]"
      ]
     },
     "metadata": {},
     "output_type": "display_data"
    },
    {
     "data": {
      "application/vnd.jupyter.widget-view+json": {
       "model_id": "1b7df93e78064e948016444f146cee72",
       "version_major": 2,
       "version_minor": 0
      },
      "text/plain": [
       "Test #98\n",
       ":   0%|          | 0/10 [00:00<?, ?it/s]"
      ]
     },
     "metadata": {},
     "output_type": "display_data"
    },
    {
     "data": {
      "application/vnd.jupyter.widget-view+json": {
       "model_id": "7c555a685c1f4bcfa601d0e4fbc28a7e",
       "version_major": 2,
       "version_minor": 0
      },
      "text/plain": [
       "Train #99\n",
       ":   0%|          | 0/3318 [00:00<?, ?it/s]"
      ]
     },
     "metadata": {},
     "output_type": "display_data"
    },
    {
     "data": {
      "application/vnd.jupyter.widget-view+json": {
       "model_id": "e210598242ce4ff18acfd6033b390af3",
       "version_major": 2,
       "version_minor": 0
      },
      "text/plain": [
       "Test #99\n",
       ":   0%|          | 0/10 [00:00<?, ?it/s]"
      ]
     },
     "metadata": {},
     "output_type": "display_data"
    }
   ],
   "source": [
    "for epoch in range(EPOCH_OFFSET, EPOCHS + EPOCH_OFFSET):\n",
    "    train_losses.append(train(epoch, gen, disc, opt_gen, opt_disc, dataloader_train))\n",
    "    test(epoch, gen, disc, dataloader_test)\n",
    "\n",
    "    checkpoint = epoch % 10\n",
    "\n",
    "    torch.save(gen.state_dict(), f\"models/{MODEL_TAG}/checkpoints/gen_{checkpoint}.pt\")\n",
    "    torch.save(opt_gen.state_dict(), f\"models/{MODEL_TAG}/checkpoints/opt_gen_{checkpoint}.pt\")\n",
    "    torch.save(disc.state_dict(), f\"models/{MODEL_TAG}/checkpoints/disc_{checkpoint}.pt\")\n",
    "    torch.save(opt_disc.state_dict(), f\"models/{MODEL_TAG}/checkpoints/opt_disc_{checkpoint}.pt\")\n",
    "    json.dump(train_losses, open(f\"models/{MODEL_TAG}/losses.json\", \"w\"))"
   ]
  },
  {
   "cell_type": "code",
   "execution_count": 159,
   "id": "ebc82473-9e10-4c5e-9f6c-c1b6736cc265",
   "metadata": {
    "tags": []
   },
   "outputs": [
    {
     "data": {
      "text/plain": [
       "<matplotlib.legend.Legend at 0x7fac3d5d28f0>"
      ]
     },
     "execution_count": 159,
     "metadata": {},
     "output_type": "execute_result"
    },
    {
     "data": {
      "image/png": "[encoded data removed]",
      "text/plain": [
       "<Figure size 1600x1200 with 4 Axes>"
      ]
     },
     "metadata": {},
     "output_type": "display_data"
    }
   ],
   "source": [
    "plt.figure(figsize=(16, 12))\n",
    "\n",
    "for i, key in enumerate([\"disc\", \"gen\", \"feature\", \"mel\"]):\n",
    "    plt.subplot(2, 2, i + 1)\n",
    "    plt.plot(sum([losses[key] for losses in train_losses[:]], start=[]), label=key)\n",
    "    plt.title(key)\n",
    "\n",
    "plt.grid()\n",
    "plt.tight_layout()\n",
    "plt.legend()"
   ]
  },
  {
   "cell_type": "code",
   "execution_count": null,
   "id": "4b1b1400-2ab6-401e-a9cb-fd162309a6d7",
   "metadata": {},
   "outputs": [],
   "source": []
  },
  {
   "cell_type": "code",
   "execution_count": null,
   "id": "8dd1cd3e-c7db-416f-a425-e8416c4809f6",
   "metadata": {},
   "outputs": [],
   "source": []
  }
 ],
 "metadata": {
  "kernelspec": {
   "display_name": "Python 3 (ipykernel)",
   "language": "python",
   "name": "python3"
  },
  "language_info": {
   "codemirror_mode": {
    "name": "ipython",
    "version": 3
   },
   "file_extension": ".py",
   "mimetype": "text/x-python",
   "name": "python",
   "nbconvert_exporter": "python",
   "pygments_lexer": "ipython3",
   "version": "3.11.3"
  },
  "widgets": {
   "application/vnd.jupyter.widget-state+json": {
    "state": {},
    "version_major": 2,
    "version_minor": 0
   }
  }
 },
 "nbformat": 4,
 "nbformat_minor": 5
}
